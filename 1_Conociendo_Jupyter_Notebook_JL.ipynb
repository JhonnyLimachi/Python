{
  "nbformat": 4,
  "nbformat_minor": 0,
  "metadata": {
    "colab": {
      "provenance": [],
      "toc_visible": true,
      "authorship_tag": "ABX9TyNFWep5+PS+CxItaZlrbrIK",
      "include_colab_link": true
    },
    "kernelspec": {
      "name": "python3",
      "display_name": "Python 3"
    },
    "language_info": {
      "name": "python"
    }
  },
  "cells": [
    {
      "cell_type": "markdown",
      "metadata": {
        "id": "view-in-github",
        "colab_type": "text"
      },
      "source": [
        "<a href=\"https://colab.research.google.com/github/JhonnyLimachi/Python/blob/main/1_Conociendo_Jupyter_Notebook_JL.ipynb\" target=\"_parent\"><img src=\"https://colab.research.google.com/assets/colab-badge.svg\" alt=\"Open In Colab\"/></a>"
      ]
    },
    {
      "cell_type": "markdown",
      "source": [
        "<img alt=\"Colaboratory logo\" width=\"20%\" src=\"https://raw.githubusercontent.com/carlosfab/escola-data-science/master/img/novo_logo_bg_claro.png\">\n",
        "\n",
        "#### **Data Science en la practica 2023-2024**\n",
        "*by [Suma qamaña.ai](https://sigmoidal.ai)*\n",
        "\n",
        "---\n",
        "\n",
        "Google Colab es un entorno de cuaderno Jupyter que funciona completamente en la nube. Es decir, puedes crear y ejecutar tus proyectos de Ciencia de Datos sin perder tiempo configurando tu máquina local.\n",
        "\n",
        "<center><img src=\"https://miro.medium.com/max/2000/1*gl0OdcvY4lnkSB8WvOghvw.jpeg\" height=\"400px\"></center>"
      ],
      "metadata": {
        "id": "yV-CX7AayF3W"
      }
    },
    {
      "cell_type": "markdown",
      "source": [
        "# Ambiente Interactivo\n",
        "\n",
        "Una de las principales ventajas de usar Jupyter notebooks en lugar de IDEs convencionales para crear tus proyectos es que esta página no es estática. Cuando creas un archivo aquí, cualquiera podrá ejecutar tu código y hacer sus propias modificaciones.\n",
        "\n",
        "¡Esto es perfecto! Imagina una situación en la que realizaste un análisis para tu empresa hace 6 meses. Un día determinado, el Director de Ventas te pide que calcules una información completamente nueva basada en ese análisis.\n",
        "\n",
        "Si solo tienes el informe estático (o incluso un montón de archivos .py, sin documentación), las posibilidades son que no serás capaz de entregar la nueva información en un tiempo adecuado.\n",
        "\n",
        "Ahora bien, si tienes guardados todos tus notebooks de forma organizada, preferentemente en la nube, puedes ejecutar todas las celdas de nuevo y simplemente incluir ese análisis adicional.\n",
        "\n",
        "Mira lo fácil que es trabajar con celdas interactivas."
      ],
      "metadata": {
        "id": "pBqwq5yayGY3"
      }
    },
    {
      "cell_type": "code",
      "source": [
        "#operaciones matemáticas con Python\n",
        "ingresos = 14800.90\n",
        "gasto_fijo = 4500\n",
        "gasto_variable = 3600.90\n",
        "\n",
        "ganancia = ingresos - (gasto_fijo + gasto_variable)\n",
        "\n",
        "print(ganancia)"
      ],
      "metadata": {
        "colab": {
          "base_uri": "https://localhost:8080/"
        },
        "id": "cgjF3Z9FdE8Z",
        "outputId": "453ab925-1855-42ef-edc4-e8ee07d077bd"
      },
      "execution_count": null,
      "outputs": [
        {
          "output_type": "stream",
          "name": "stdout",
          "text": [
            "6700.0\n"
          ]
        }
      ]
    },
    {
      "cell_type": "markdown",
      "source": [
        "La celda de arriba es nuestra primera celda que contiene código. Todas las anteriores (incluyendo esta) eran solo texto.\n",
        "\n",
        "Haz doble clic en la celda de arriba para editarla, cambia el valor de alguna variable (ingresos, por ejemplo) y presiona SHIFT + ENTER (o haz clic en el icono \"Play\" a la izquierda de ella). Esta es la ventaja de documentar un proyecto con Jupyter Notebook: lo haces replicable."
      ],
      "metadata": {
        "id": "BFHaFU-LpEqF"
      }
    },
    {
      "cell_type": "markdown",
      "source": [
        "# Atajos de Jupyter\n",
        "Conocer los atajos de Jupyter te ayudará a ahorrar tiempo. Aunque siempre puedes recurrir al menú de arriba, te recomiendo que te vayas acostumbrando a las principales combinaciones de teclas. Aquí hay algunas de ellas:\n",
        "\n",
        "Presiona Shift + Enter para ejecutar la celda seleccionada; Presiona Ctrl/Cmd + M seguido de B para crear una nueva celda debajo; Presiona Ctrl/Cmd + M seguido de A para crear una nueva celda arriba; Presiona Ctrl/Cmd + M seguido de M para cambiar el tipo de la celda seleccionada a Texto; Presiona Ctrl/Cmd + M seguido de Y para cambiar el tipo de la celda seleccionada a Código:"
      ],
      "metadata": {
        "id": "QYDVm8sBspYB"
      }
    },
    {
      "cell_type": "markdown",
      "source": [
        "#Integración con el Sistema\n",
        "Otra cosa que permite Jupyter Notebook es acceder al propio sistema operativo, todo desde la celda de código.\n",
        "\n",
        "Si estás acostumbrado a usar la línea de comandos en el Terminal, por ejemplo, puedes integrar tu código Python con esa funcionalidad.\n",
        "\n",
        "Por ejemplo, para listar todos los archivos de la carpeta actual:"
      ],
      "metadata": {
        "id": "FgOPT8bms-6n"
      }
    },
    {
      "cell_type": "code",
      "source": [
        "!ls / -l"
      ],
      "metadata": {
        "id": "rRtvu5JY7Ial",
        "colab": {
          "base_uri": "https://localhost:8080/"
        },
        "outputId": "ef70b81d-e8ac-4cb7-94a5-852e4d5fa2ad"
      },
      "execution_count": null,
      "outputs": [
        {
          "output_type": "stream",
          "name": "stdout",
          "text": [
            "total 104\n",
            "lrwxrwxrwx   1 root root     7 Jun  5 14:02 bin -> usr/bin\n",
            "drwxr-xr-x   2 root root  4096 Apr 18  2022 boot\n",
            "drwxr-xr-x   1 root root  4096 Sep 20 15:26 content\n",
            "-rw-r--r--   1 root root  4332 Jun 21 00:40 cuda-keyring_1.0-1_all.deb\n",
            "drwxr-xr-x   1 root root  4096 Sep 18 13:53 datalab\n",
            "drwxr-xr-x   5 root root   360 Sep 20 12:47 dev\n",
            "drwxr-xr-x   1 root root  4096 Sep 20 12:47 etc\n",
            "drwxr-xr-x   2 root root  4096 Apr 18  2022 home\n",
            "lrwxrwxrwx   1 root root     7 Jun  5 14:02 lib -> usr/lib\n",
            "lrwxrwxrwx   1 root root     9 Jun  5 14:02 lib32 -> usr/lib32\n",
            "lrwxrwxrwx   1 root root     9 Jun  5 14:02 lib64 -> usr/lib64\n",
            "lrwxrwxrwx   1 root root    10 Jun  5 14:02 libx32 -> usr/libx32\n",
            "drwxr-xr-x   2 root root  4096 Jun  5 14:02 media\n",
            "drwxr-xr-x   2 root root  4096 Jun  5 14:02 mnt\n",
            "-rw-r--r--   1 root root 17294 Jun 21 00:39 NGC-DL-CONTAINER-LICENSE\n",
            "drwxr-xr-x   1 root root  4096 Sep 18 13:55 opt\n",
            "dr-xr-xr-x 173 root root     0 Sep 20 12:47 proc\n",
            "drwxr-xr-x  15 root root  4096 Sep 18 13:33 python-apt\n",
            "drwx------   1 root root  4096 Sep 18 13:54 root\n",
            "drwxr-xr-x   1 root root  4096 Sep 18 13:28 run\n",
            "lrwxrwxrwx   1 root root     8 Jun  5 14:02 sbin -> usr/sbin\n",
            "drwxr-xr-x   2 root root  4096 Jun  5 14:02 srv\n",
            "dr-xr-xr-x  13 root root     0 Sep 20 12:47 sys\n",
            "drwxrwxrwt   1 root root  4096 Sep 20 15:19 tmp\n",
            "drwxr-xr-x   1 root root  4096 Sep 18 13:53 tools\n",
            "drwxr-xr-x   1 root root  4096 Sep 18 13:54 usr\n",
            "drwxr-xr-x   1 root root  4096 Sep 18 13:53 var\n"
          ]
        }
      ]
    },
    {
      "cell_type": "markdown",
      "source": [
        "Es posible descargar archivos mediante comandos de la terminal, crear directorios y automatizar flujos de trabajo (pipelines). Todo esto contribuye aún más a que tu cuaderno sea replicable por cualquier persona.\n",
        "\n",
        "Supongamos que estás usando un archivo CSV que se encuentra en la dirección https://raw.githubusercontent.com/carlosfab/data_science/master/data/train.csv y quieres descargarlo."
      ],
      "metadata": {
        "id": "EM8PplCQvczS"
      }
    },
    {
      "cell_type": "code",
      "source": [
        "# bajar el archivo train.csv\n",
        "!wget https://raw.githubusercontent.com/carlosfab/data_science/master/data/train.csv\n",
        "\n",
        "# ver el directorio\n",
        "!ls -l"
      ],
      "metadata": {
        "colab": {
          "base_uri": "https://localhost:8080/"
        },
        "id": "t8XSpFUkvyCo",
        "outputId": "49969540-2059-451b-fa51-f35fe8096184"
      },
      "execution_count": null,
      "outputs": [
        {
          "output_type": "stream",
          "name": "stdout",
          "text": [
            "--2023-09-20 15:26:41--  https://raw.githubusercontent.com/carlosfab/data_science/master/data/train.csv\n",
            "Resolving raw.githubusercontent.com (raw.githubusercontent.com)... 185.199.108.133, 185.199.110.133, 185.199.109.133, ...\n",
            "Connecting to raw.githubusercontent.com (raw.githubusercontent.com)|185.199.108.133|:443... connected.\n",
            "HTTP request sent, awaiting response... 200 OK\n",
            "Length: 61194 (60K) [text/plain]\n",
            "Saving to: ‘train.csv.4’\n",
            "\n",
            "\rtrain.csv.4           0%[                    ]       0  --.-KB/s               \rtrain.csv.4         100%[===================>]  59.76K  --.-KB/s    in 0.004s  \n",
            "\n",
            "2023-09-20 15:26:41 (14.4 MB/s) - ‘train.csv.4’ saved [61194/61194]\n",
            "\n",
            "total 304\n",
            "drwxr-xr-x 1 root root  4096 Sep 18 13:37 sample_data\n",
            "-rw-r--r-- 1 root root 61194 Sep 20 12:52 train.csv\n",
            "-rw-r--r-- 1 root root 61194 Sep 20 13:20 train.csv.1\n",
            "-rw-r--r-- 1 root root 61194 Sep 20 14:22 train.csv.2\n",
            "-rw-r--r-- 1 root root 61194 Sep 20 15:26 train.csv.3\n",
            "-rw-r--r-- 1 root root 61194 Sep 20 15:26 train.csv.4\n"
          ]
        }
      ]
    },
    {
      "cell_type": "markdown",
      "source": [
        "# Ayudas en Jupyter\n",
        "Utilizar la tecla Tab te ayuda mucho a completar automáticamente el código o a consultar rápidamente la documentación. Mira cómo usar esta tecla para ver lo que hay dentro de la biblioteca pandas.\n"
      ],
      "metadata": {
        "id": "n0xLqscUOzEO"
      }
    },
    {
      "cell_type": "code",
      "source": [
        "import pandas as pd"
      ],
      "metadata": {
        "id": "xYh5g2cR_vNS"
      },
      "execution_count": null,
      "outputs": []
    },
    {
      "cell_type": "markdown",
      "source": [
        "Después de importar el paquete, escribe pd. y presiona la tecla Tab. Se mostrarán todas las opciones disponibles, y podrás elegir la que desees."
      ],
      "metadata": {
        "id": "DgB1YJDUADR0"
      }
    },
    {
      "cell_type": "code",
      "source": [
        "pd.read_csv('train.csv')"
      ],
      "metadata": {
        "colab": {
          "base_uri": "https://localhost:8080/",
          "height": 947
        },
        "id": "UqI_NvU4AIp2",
        "outputId": "317d783f-cab9-4b22-a553-f40877e284e6"
      },
      "execution_count": null,
      "outputs": [
        {
          "output_type": "execute_result",
          "data": {
            "text/plain": [
              "     PassengerId  Survived  Pclass  \\\n",
              "0              1         0       3   \n",
              "1              2         1       1   \n",
              "2              3         1       3   \n",
              "3              4         1       1   \n",
              "4              5         0       3   \n",
              "..           ...       ...     ...   \n",
              "886          887         0       2   \n",
              "887          888         1       1   \n",
              "888          889         0       3   \n",
              "889          890         1       1   \n",
              "890          891         0       3   \n",
              "\n",
              "                                                  Name     Sex   Age  SibSp  \\\n",
              "0                              Braund, Mr. Owen Harris    male  22.0      1   \n",
              "1    Cumings, Mrs. John Bradley (Florence Briggs Th...  female  38.0      1   \n",
              "2                               Heikkinen, Miss. Laina  female  26.0      0   \n",
              "3         Futrelle, Mrs. Jacques Heath (Lily May Peel)  female  35.0      1   \n",
              "4                             Allen, Mr. William Henry    male  35.0      0   \n",
              "..                                                 ...     ...   ...    ...   \n",
              "886                              Montvila, Rev. Juozas    male  27.0      0   \n",
              "887                       Graham, Miss. Margaret Edith  female  19.0      0   \n",
              "888           Johnston, Miss. Catherine Helen \"Carrie\"  female   NaN      1   \n",
              "889                              Behr, Mr. Karl Howell    male  26.0      0   \n",
              "890                                Dooley, Mr. Patrick    male  32.0      0   \n",
              "\n",
              "     Parch            Ticket     Fare Cabin Embarked  \n",
              "0        0         A/5 21171   7.2500   NaN        S  \n",
              "1        0          PC 17599  71.2833   C85        C  \n",
              "2        0  STON/O2. 3101282   7.9250   NaN        S  \n",
              "3        0            113803  53.1000  C123        S  \n",
              "4        0            373450   8.0500   NaN        S  \n",
              "..     ...               ...      ...   ...      ...  \n",
              "886      0            211536  13.0000   NaN        S  \n",
              "887      0            112053  30.0000   B42        S  \n",
              "888      2        W./C. 6607  23.4500   NaN        S  \n",
              "889      0            111369  30.0000  C148        C  \n",
              "890      0            370376   7.7500   NaN        Q  \n",
              "\n",
              "[891 rows x 12 columns]"
            ],
            "text/html": [
              "\n",
              "  <div id=\"df-d21ba265-a01b-4f8b-ab56-c9eb027ec438\" class=\"colab-df-container\">\n",
              "    <div>\n",
              "<style scoped>\n",
              "    .dataframe tbody tr th:only-of-type {\n",
              "        vertical-align: middle;\n",
              "    }\n",
              "\n",
              "    .dataframe tbody tr th {\n",
              "        vertical-align: top;\n",
              "    }\n",
              "\n",
              "    .dataframe thead th {\n",
              "        text-align: right;\n",
              "    }\n",
              "</style>\n",
              "<table border=\"1\" class=\"dataframe\">\n",
              "  <thead>\n",
              "    <tr style=\"text-align: right;\">\n",
              "      <th></th>\n",
              "      <th>PassengerId</th>\n",
              "      <th>Survived</th>\n",
              "      <th>Pclass</th>\n",
              "      <th>Name</th>\n",
              "      <th>Sex</th>\n",
              "      <th>Age</th>\n",
              "      <th>SibSp</th>\n",
              "      <th>Parch</th>\n",
              "      <th>Ticket</th>\n",
              "      <th>Fare</th>\n",
              "      <th>Cabin</th>\n",
              "      <th>Embarked</th>\n",
              "    </tr>\n",
              "  </thead>\n",
              "  <tbody>\n",
              "    <tr>\n",
              "      <th>0</th>\n",
              "      <td>1</td>\n",
              "      <td>0</td>\n",
              "      <td>3</td>\n",
              "      <td>Braund, Mr. Owen Harris</td>\n",
              "      <td>male</td>\n",
              "      <td>22.0</td>\n",
              "      <td>1</td>\n",
              "      <td>0</td>\n",
              "      <td>A/5 21171</td>\n",
              "      <td>7.2500</td>\n",
              "      <td>NaN</td>\n",
              "      <td>S</td>\n",
              "    </tr>\n",
              "    <tr>\n",
              "      <th>1</th>\n",
              "      <td>2</td>\n",
              "      <td>1</td>\n",
              "      <td>1</td>\n",
              "      <td>Cumings, Mrs. John Bradley (Florence Briggs Th...</td>\n",
              "      <td>female</td>\n",
              "      <td>38.0</td>\n",
              "      <td>1</td>\n",
              "      <td>0</td>\n",
              "      <td>PC 17599</td>\n",
              "      <td>71.2833</td>\n",
              "      <td>C85</td>\n",
              "      <td>C</td>\n",
              "    </tr>\n",
              "    <tr>\n",
              "      <th>2</th>\n",
              "      <td>3</td>\n",
              "      <td>1</td>\n",
              "      <td>3</td>\n",
              "      <td>Heikkinen, Miss. Laina</td>\n",
              "      <td>female</td>\n",
              "      <td>26.0</td>\n",
              "      <td>0</td>\n",
              "      <td>0</td>\n",
              "      <td>STON/O2. 3101282</td>\n",
              "      <td>7.9250</td>\n",
              "      <td>NaN</td>\n",
              "      <td>S</td>\n",
              "    </tr>\n",
              "    <tr>\n",
              "      <th>3</th>\n",
              "      <td>4</td>\n",
              "      <td>1</td>\n",
              "      <td>1</td>\n",
              "      <td>Futrelle, Mrs. Jacques Heath (Lily May Peel)</td>\n",
              "      <td>female</td>\n",
              "      <td>35.0</td>\n",
              "      <td>1</td>\n",
              "      <td>0</td>\n",
              "      <td>113803</td>\n",
              "      <td>53.1000</td>\n",
              "      <td>C123</td>\n",
              "      <td>S</td>\n",
              "    </tr>\n",
              "    <tr>\n",
              "      <th>4</th>\n",
              "      <td>5</td>\n",
              "      <td>0</td>\n",
              "      <td>3</td>\n",
              "      <td>Allen, Mr. William Henry</td>\n",
              "      <td>male</td>\n",
              "      <td>35.0</td>\n",
              "      <td>0</td>\n",
              "      <td>0</td>\n",
              "      <td>373450</td>\n",
              "      <td>8.0500</td>\n",
              "      <td>NaN</td>\n",
              "      <td>S</td>\n",
              "    </tr>\n",
              "    <tr>\n",
              "      <th>...</th>\n",
              "      <td>...</td>\n",
              "      <td>...</td>\n",
              "      <td>...</td>\n",
              "      <td>...</td>\n",
              "      <td>...</td>\n",
              "      <td>...</td>\n",
              "      <td>...</td>\n",
              "      <td>...</td>\n",
              "      <td>...</td>\n",
              "      <td>...</td>\n",
              "      <td>...</td>\n",
              "      <td>...</td>\n",
              "    </tr>\n",
              "    <tr>\n",
              "      <th>886</th>\n",
              "      <td>887</td>\n",
              "      <td>0</td>\n",
              "      <td>2</td>\n",
              "      <td>Montvila, Rev. Juozas</td>\n",
              "      <td>male</td>\n",
              "      <td>27.0</td>\n",
              "      <td>0</td>\n",
              "      <td>0</td>\n",
              "      <td>211536</td>\n",
              "      <td>13.0000</td>\n",
              "      <td>NaN</td>\n",
              "      <td>S</td>\n",
              "    </tr>\n",
              "    <tr>\n",
              "      <th>887</th>\n",
              "      <td>888</td>\n",
              "      <td>1</td>\n",
              "      <td>1</td>\n",
              "      <td>Graham, Miss. Margaret Edith</td>\n",
              "      <td>female</td>\n",
              "      <td>19.0</td>\n",
              "      <td>0</td>\n",
              "      <td>0</td>\n",
              "      <td>112053</td>\n",
              "      <td>30.0000</td>\n",
              "      <td>B42</td>\n",
              "      <td>S</td>\n",
              "    </tr>\n",
              "    <tr>\n",
              "      <th>888</th>\n",
              "      <td>889</td>\n",
              "      <td>0</td>\n",
              "      <td>3</td>\n",
              "      <td>Johnston, Miss. Catherine Helen \"Carrie\"</td>\n",
              "      <td>female</td>\n",
              "      <td>NaN</td>\n",
              "      <td>1</td>\n",
              "      <td>2</td>\n",
              "      <td>W./C. 6607</td>\n",
              "      <td>23.4500</td>\n",
              "      <td>NaN</td>\n",
              "      <td>S</td>\n",
              "    </tr>\n",
              "    <tr>\n",
              "      <th>889</th>\n",
              "      <td>890</td>\n",
              "      <td>1</td>\n",
              "      <td>1</td>\n",
              "      <td>Behr, Mr. Karl Howell</td>\n",
              "      <td>male</td>\n",
              "      <td>26.0</td>\n",
              "      <td>0</td>\n",
              "      <td>0</td>\n",
              "      <td>111369</td>\n",
              "      <td>30.0000</td>\n",
              "      <td>C148</td>\n",
              "      <td>C</td>\n",
              "    </tr>\n",
              "    <tr>\n",
              "      <th>890</th>\n",
              "      <td>891</td>\n",
              "      <td>0</td>\n",
              "      <td>3</td>\n",
              "      <td>Dooley, Mr. Patrick</td>\n",
              "      <td>male</td>\n",
              "      <td>32.0</td>\n",
              "      <td>0</td>\n",
              "      <td>0</td>\n",
              "      <td>370376</td>\n",
              "      <td>7.7500</td>\n",
              "      <td>NaN</td>\n",
              "      <td>Q</td>\n",
              "    </tr>\n",
              "  </tbody>\n",
              "</table>\n",
              "<p>891 rows × 12 columns</p>\n",
              "</div>\n",
              "    <div class=\"colab-df-buttons\">\n",
              "\n",
              "  <div class=\"colab-df-container\">\n",
              "    <button class=\"colab-df-convert\" onclick=\"convertToInteractive('df-d21ba265-a01b-4f8b-ab56-c9eb027ec438')\"\n",
              "            title=\"Convert this dataframe to an interactive table.\"\n",
              "            style=\"display:none;\">\n",
              "\n",
              "  <svg xmlns=\"http://www.w3.org/2000/svg\" height=\"24px\" viewBox=\"0 -960 960 960\">\n",
              "    <path d=\"M120-120v-720h720v720H120Zm60-500h600v-160H180v160Zm220 220h160v-160H400v160Zm0 220h160v-160H400v160ZM180-400h160v-160H180v160Zm440 0h160v-160H620v160ZM180-180h160v-160H180v160Zm440 0h160v-160H620v160Z\"/>\n",
              "  </svg>\n",
              "    </button>\n",
              "\n",
              "  <style>\n",
              "    .colab-df-container {\n",
              "      display:flex;\n",
              "      gap: 12px;\n",
              "    }\n",
              "\n",
              "    .colab-df-convert {\n",
              "      background-color: #E8F0FE;\n",
              "      border: none;\n",
              "      border-radius: 50%;\n",
              "      cursor: pointer;\n",
              "      display: none;\n",
              "      fill: #1967D2;\n",
              "      height: 32px;\n",
              "      padding: 0 0 0 0;\n",
              "      width: 32px;\n",
              "    }\n",
              "\n",
              "    .colab-df-convert:hover {\n",
              "      background-color: #E2EBFA;\n",
              "      box-shadow: 0px 1px 2px rgba(60, 64, 67, 0.3), 0px 1px 3px 1px rgba(60, 64, 67, 0.15);\n",
              "      fill: #174EA6;\n",
              "    }\n",
              "\n",
              "    .colab-df-buttons div {\n",
              "      margin-bottom: 4px;\n",
              "    }\n",
              "\n",
              "    [theme=dark] .colab-df-convert {\n",
              "      background-color: #3B4455;\n",
              "      fill: #D2E3FC;\n",
              "    }\n",
              "\n",
              "    [theme=dark] .colab-df-convert:hover {\n",
              "      background-color: #434B5C;\n",
              "      box-shadow: 0px 1px 3px 1px rgba(0, 0, 0, 0.15);\n",
              "      filter: drop-shadow(0px 1px 2px rgba(0, 0, 0, 0.3));\n",
              "      fill: #FFFFFF;\n",
              "    }\n",
              "  </style>\n",
              "\n",
              "    <script>\n",
              "      const buttonEl =\n",
              "        document.querySelector('#df-d21ba265-a01b-4f8b-ab56-c9eb027ec438 button.colab-df-convert');\n",
              "      buttonEl.style.display =\n",
              "        google.colab.kernel.accessAllowed ? 'block' : 'none';\n",
              "\n",
              "      async function convertToInteractive(key) {\n",
              "        const element = document.querySelector('#df-d21ba265-a01b-4f8b-ab56-c9eb027ec438');\n",
              "        const dataTable =\n",
              "          await google.colab.kernel.invokeFunction('convertToInteractive',\n",
              "                                                    [key], {});\n",
              "        if (!dataTable) return;\n",
              "\n",
              "        const docLinkHtml = 'Like what you see? Visit the ' +\n",
              "          '<a target=\"_blank\" href=https://colab.research.google.com/notebooks/data_table.ipynb>data table notebook</a>'\n",
              "          + ' to learn more about interactive tables.';\n",
              "        element.innerHTML = '';\n",
              "        dataTable['output_type'] = 'display_data';\n",
              "        await google.colab.output.renderOutput(dataTable, element);\n",
              "        const docLink = document.createElement('div');\n",
              "        docLink.innerHTML = docLinkHtml;\n",
              "        element.appendChild(docLink);\n",
              "      }\n",
              "    </script>\n",
              "  </div>\n",
              "\n",
              "\n",
              "<div id=\"df-8e9ffa5c-f1ee-46b6-aa81-5ce43ec47c39\">\n",
              "  <button class=\"colab-df-quickchart\" onclick=\"quickchart('df-8e9ffa5c-f1ee-46b6-aa81-5ce43ec47c39')\"\n",
              "            title=\"Suggest charts.\"\n",
              "            style=\"display:none;\">\n",
              "\n",
              "<svg xmlns=\"http://www.w3.org/2000/svg\" height=\"24px\"viewBox=\"0 0 24 24\"\n",
              "     width=\"24px\">\n",
              "    <g>\n",
              "        <path d=\"M19 3H5c-1.1 0-2 .9-2 2v14c0 1.1.9 2 2 2h14c1.1 0 2-.9 2-2V5c0-1.1-.9-2-2-2zM9 17H7v-7h2v7zm4 0h-2V7h2v10zm4 0h-2v-4h2v4z\"/>\n",
              "    </g>\n",
              "</svg>\n",
              "  </button>\n",
              "\n",
              "<style>\n",
              "  .colab-df-quickchart {\n",
              "      --bg-color: #E8F0FE;\n",
              "      --fill-color: #1967D2;\n",
              "      --hover-bg-color: #E2EBFA;\n",
              "      --hover-fill-color: #174EA6;\n",
              "      --disabled-fill-color: #AAA;\n",
              "      --disabled-bg-color: #DDD;\n",
              "  }\n",
              "\n",
              "  [theme=dark] .colab-df-quickchart {\n",
              "      --bg-color: #3B4455;\n",
              "      --fill-color: #D2E3FC;\n",
              "      --hover-bg-color: #434B5C;\n",
              "      --hover-fill-color: #FFFFFF;\n",
              "      --disabled-bg-color: #3B4455;\n",
              "      --disabled-fill-color: #666;\n",
              "  }\n",
              "\n",
              "  .colab-df-quickchart {\n",
              "    background-color: var(--bg-color);\n",
              "    border: none;\n",
              "    border-radius: 50%;\n",
              "    cursor: pointer;\n",
              "    display: none;\n",
              "    fill: var(--fill-color);\n",
              "    height: 32px;\n",
              "    padding: 0;\n",
              "    width: 32px;\n",
              "  }\n",
              "\n",
              "  .colab-df-quickchart:hover {\n",
              "    background-color: var(--hover-bg-color);\n",
              "    box-shadow: 0 1px 2px rgba(60, 64, 67, 0.3), 0 1px 3px 1px rgba(60, 64, 67, 0.15);\n",
              "    fill: var(--button-hover-fill-color);\n",
              "  }\n",
              "\n",
              "  .colab-df-quickchart-complete:disabled,\n",
              "  .colab-df-quickchart-complete:disabled:hover {\n",
              "    background-color: var(--disabled-bg-color);\n",
              "    fill: var(--disabled-fill-color);\n",
              "    box-shadow: none;\n",
              "  }\n",
              "\n",
              "  .colab-df-spinner {\n",
              "    border: 2px solid var(--fill-color);\n",
              "    border-color: transparent;\n",
              "    border-bottom-color: var(--fill-color);\n",
              "    animation:\n",
              "      spin 1s steps(1) infinite;\n",
              "  }\n",
              "\n",
              "  @keyframes spin {\n",
              "    0% {\n",
              "      border-color: transparent;\n",
              "      border-bottom-color: var(--fill-color);\n",
              "      border-left-color: var(--fill-color);\n",
              "    }\n",
              "    20% {\n",
              "      border-color: transparent;\n",
              "      border-left-color: var(--fill-color);\n",
              "      border-top-color: var(--fill-color);\n",
              "    }\n",
              "    30% {\n",
              "      border-color: transparent;\n",
              "      border-left-color: var(--fill-color);\n",
              "      border-top-color: var(--fill-color);\n",
              "      border-right-color: var(--fill-color);\n",
              "    }\n",
              "    40% {\n",
              "      border-color: transparent;\n",
              "      border-right-color: var(--fill-color);\n",
              "      border-top-color: var(--fill-color);\n",
              "    }\n",
              "    60% {\n",
              "      border-color: transparent;\n",
              "      border-right-color: var(--fill-color);\n",
              "    }\n",
              "    80% {\n",
              "      border-color: transparent;\n",
              "      border-right-color: var(--fill-color);\n",
              "      border-bottom-color: var(--fill-color);\n",
              "    }\n",
              "    90% {\n",
              "      border-color: transparent;\n",
              "      border-bottom-color: var(--fill-color);\n",
              "    }\n",
              "  }\n",
              "</style>\n",
              "\n",
              "  <script>\n",
              "    async function quickchart(key) {\n",
              "      const quickchartButtonEl =\n",
              "        document.querySelector('#' + key + ' button');\n",
              "      quickchartButtonEl.disabled = true;  // To prevent multiple clicks.\n",
              "      quickchartButtonEl.classList.add('colab-df-spinner');\n",
              "      try {\n",
              "        const charts = await google.colab.kernel.invokeFunction(\n",
              "            'suggestCharts', [key], {});\n",
              "      } catch (error) {\n",
              "        console.error('Error during call to suggestCharts:', error);\n",
              "      }\n",
              "      quickchartButtonEl.classList.remove('colab-df-spinner');\n",
              "      quickchartButtonEl.classList.add('colab-df-quickchart-complete');\n",
              "    }\n",
              "    (() => {\n",
              "      let quickchartButtonEl =\n",
              "        document.querySelector('#df-8e9ffa5c-f1ee-46b6-aa81-5ce43ec47c39 button');\n",
              "      quickchartButtonEl.style.display =\n",
              "        google.colab.kernel.accessAllowed ? 'block' : 'none';\n",
              "    })();\n",
              "  </script>\n",
              "</div>\n",
              "    </div>\n",
              "  </div>\n"
            ]
          },
          "metadata": {},
          "execution_count": 24
        }
      ]
    },
    {
      "cell_type": "markdown",
      "source": [
        "\n",
        "Supongamos ahora que quieres usar pd.read_csv para leer el archivo CSV que acabas de descargar. Para saber cuáles son los parámetros que forman parte de cualquier clase o función, simplemente escribe pd.read_csv( y presiona la tecla Tab."
      ],
      "metadata": {
        "id": "vcsy195iAd_U"
      }
    },
    {
      "cell_type": "code",
      "source": [
        "pd.read_csv"
      ],
      "metadata": {
        "colab": {
          "base_uri": "https://localhost:8080/"
        },
        "id": "JbhgGUTRAe3v",
        "outputId": "32112087-9de9-4821-f7d1-ddde16c996eb"
      },
      "execution_count": null,
      "outputs": [
        {
          "output_type": "execute_result",
          "data": {
            "text/plain": [
              "<function pandas.io.parsers.readers.read_csv(filepath_or_buffer: 'FilePath | ReadCsvBuffer[bytes] | ReadCsvBuffer[str]', *, sep: 'str | None | lib.NoDefault' = <no_default>, delimiter: 'str | None | lib.NoDefault' = None, header: \"int | Sequence[int] | None | Literal['infer']\" = 'infer', names: 'Sequence[Hashable] | None | lib.NoDefault' = <no_default>, index_col: 'IndexLabel | Literal[False] | None' = None, usecols=None, squeeze: 'bool | None' = None, prefix: 'str | lib.NoDefault' = <no_default>, mangle_dupe_cols: 'bool' = True, dtype: 'DtypeArg | None' = None, engine: 'CSVEngine | None' = None, converters=None, true_values=None, false_values=None, skipinitialspace: 'bool' = False, skiprows=None, skipfooter: 'int' = 0, nrows: 'int | None' = None, na_values=None, keep_default_na: 'bool' = True, na_filter: 'bool' = True, verbose: 'bool' = False, skip_blank_lines: 'bool' = True, parse_dates=None, infer_datetime_format: 'bool' = False, keep_date_col: 'bool' = False, date_parser=None, dayfirst: 'bool' = False, cache_dates: 'bool' = True, iterator: 'bool' = False, chunksize: 'int | None' = None, compression: 'CompressionOptions' = 'infer', thousands: 'str | None' = None, decimal: 'str' = '.', lineterminator: 'str | None' = None, quotechar: 'str' = '\"', quoting: 'int' = 0, doublequote: 'bool' = True, escapechar: 'str | None' = None, comment: 'str | None' = None, encoding: 'str | None' = None, encoding_errors: 'str | None' = 'strict', dialect: 'str | csv.Dialect | None' = None, error_bad_lines: 'bool | None' = None, warn_bad_lines: 'bool | None' = None, on_bad_lines=None, delim_whitespace: 'bool' = False, low_memory=True, memory_map: 'bool' = False, float_precision: \"Literal['high', 'legacy'] | None\" = None, storage_options: 'StorageOptions' = None) -> 'DataFrame | TextFileReader'>"
            ]
          },
          "metadata": {},
          "execution_count": 25
        }
      ]
    },
    {
      "cell_type": "markdown",
      "source": [
        "Otra sugerencia que será muy útil cuando tengas dudas es utilizar el signo de interrogación al final de un objeto o método, y ejecutar la celda usando Shift+Enter."
      ],
      "metadata": {
        "id": "Kb9gY3JEAoqe"
      }
    },
    {
      "cell_type": "code",
      "source": [
        "pd.read_csv??"
      ],
      "metadata": {
        "id": "R7fOdDYXApdF"
      },
      "execution_count": null,
      "outputs": []
    },
    {
      "cell_type": "markdown",
      "source": [
        "# Gráficos en el  Colab\n",
        "Los gráficos serán parte de tu día a día. Debido a su gran importancia, tendremos un módulo completamente dedicado a ellos, donde exploraremos las bibliotecas ```matplotlib``` y ```seaborn```.\n",
        "\n",
        "No necesitas entender el código de abajo todavía, solo observa cómo es posible generar uno fácilmente desde aquí."
      ],
      "metadata": {
        "id": "xE7FmAMmA9bI"
      }
    },
    {
      "cell_type": "markdown",
      "source": [
        "## Histogramas"
      ],
      "metadata": {
        "id": "aq81ylgDBMIM"
      }
    },
    {
      "cell_type": "code",
      "source": [
        "# importar matplotlib\n",
        "import matplotlib.pyplot as plt\n",
        "\n",
        "# importar csv y eliminar NaN\n",
        "df = pd.read_csv(\"https://raw.githubusercontent.com/carlosfab/data_science/master/data/train.csv\")\n",
        "df.dropna(axis=0, inplace=True)\n",
        "\n",
        "# plotar histograma\n",
        "plt.hist(df.Age, bins=10)\n",
        "plt.show()"
      ],
      "metadata": {
        "colab": {
          "base_uri": "https://localhost:8080/",
          "height": 430
        },
        "id": "vwH1BLGLMoxz",
        "outputId": "fa3feda4-5d87-41f7-8ebd-18f277697b80"
      },
      "execution_count": null,
      "outputs": [
        {
          "output_type": "display_data",
          "data": {
            "text/plain": [
              "<Figure size 640x480 with 1 Axes>"
            ],
            "image/png": "[encoded data removed]"
          },
          "metadata": {}
        }
      ]
    },
    {
      "cell_type": "markdown",
      "source": [
        "## Scatter Plots"
      ],
      "metadata": {
        "id": "9vkGfXCEO4Zx"
      }
    },
    {
      "cell_type": "code",
      "source": [
        "plt.scatter(df.Age, df.Fare)\n",
        "plt.show()\n",
        "plt.savefig('sigmoidal.png')"
      ],
      "metadata": {
        "colab": {
          "base_uri": "https://localhost:8080/",
          "height": 447
        },
        "id": "2GbbVK_3O7Kn",
        "outputId": "d75fe207-9446-4c0c-8306-7350abf9fa7f"
      },
      "execution_count": null,
      "outputs": [
        {
          "output_type": "display_data",
          "data": {
            "text/plain": [
              "<Figure size 640x480 with 1 Axes>"
            ],
            "image/png": "[encoded data removed]"
          },
          "metadata": {}
        },
        {
          "output_type": "display_data",
          "data": {
            "text/plain": [
              "<Figure size 640x480 with 0 Axes>"
            ]
          },
          "metadata": {}
        }
      ]
    },
    {
      "cell_type": "markdown",
      "source": [
        "# Formularios\n",
        "Aquí en Colab, existe la posibilidad de crear formularios interactivos que pasan el valor a la variable. Es un excelente enfoque cuando tienes que realizar varias pruebas para ajustes de parámetros o necesitas recibir un valor introducido manualmente."
      ],
      "metadata": {
        "id": "2-YHXEslP1xK"
      }
    },
    {
      "cell_type": "code",
      "source": [
        "#@title Ejemplos de Campos {run: \"auto\"}\n",
        "\n",
        "texto = 'valor de string' #@param {type:\"string\"}\n",
        "mejor_ciudad = 'Cochabamba' #@param [\"Cochabamba\", \"La Paz\", \"Santa Cruz\"]\n",
        "data_curso = '2023-09-20' #@param {type:\"date\"}\n",
        "number_slider = 3.8 #@param {type:\"slider\", min:0, max:10, step:0.1}\n",
        "boolean_checkbox = True #@param {type:\"boolean\"}\n",
        "\n",
        "# imprimir os valores dos formulários\n",
        "print(texto)\n",
        "print(mejor_ciudad)\n",
        "print(data_curso)\n",
        "print(number_slider)\n",
        "print(boolean_checkbox)"
      ],
      "metadata": {
        "colab": {
          "base_uri": "https://localhost:8080/"
        },
        "id": "8inXhPKdP5YT",
        "outputId": "a5cfe4ed-0db4-4a1c-d5ed-feea5936938c"
      },
      "execution_count": null,
      "outputs": [
        {
          "output_type": "stream",
          "name": "stdout",
          "text": [
            "valor de string\n",
            "Cochabamba\n",
            "2023-09-20\n",
            "3.8\n",
            "True\n"
          ]
        }
      ]
    },
    {
      "cell_type": "markdown",
      "source": [
        "Para que los valores se actualicen, debes ejecutar la celda primero, haciendo clic en el botón Play o con `Shift + Enter`.\n",
        "\n",
        "\n",
        "Una alternativa es incluir run: \"auto\" en la primera línea. De esta manera, después de la primera vez que ejecutes la celda, si cambias el valor en el futuro, la celda se ejecutará automáticamente (actualizando el valor de la variable asignada).\n",
        "\n",
        "Y recuerda que puedes ocultar la parte del código, dejando solo el formulario. Simplemente haz clic en la celda, ve a View → Show/hide code (esto también se puede hacer utilizando la barra de herramientas que se encuentra en la esquina superior derecha de cada celda)."
      ],
      "metadata": {
        "id": "s3N0jIn0Q22m"
      }
    },
    {
      "cell_type": "markdown",
      "source": [
        "# Importando una biblioteca que no está instalada\n",
        "El entorno de Colab ya viene con las principales bibliotecas para aprendizaje automático y ciencia de datos. Sin embargo, si hay necesidad de instalar cualquier paquete adicional, la instalación se puede realizar con el comando pip install."
      ],
      "metadata": {
        "id": "OWDtysvOS0O9"
      }
    },
    {
      "cell_type": "code",
      "source": [
        "!pip install -q ga2"
      ],
      "metadata": {
        "id": "-9m6NOZ8Tasp"
      },
      "execution_count": null,
      "outputs": []
    },
    {
      "cell_type": "markdown",
      "source": [
        "# Guardando archivos en Github:\n",
        "Cada vez que abres cualquier cuaderno en Colab, automáticamente se genera una copia del mismo. Esto significa que puedes modificar los cuadernos del curso a tu gusto, ya que no alterarás el original.\n",
        "\n",
        "Una cosa que usarás mucho es guardar algunos cuadernos del curso en Github, lo cual se hace muy fácilmente en este entorno.\n",
        "\n",
        "Para guardar en Github, simplemente elige Archivo → Guardar una copia en GitHub en el menú principal y proporciona los permisos de acceso necesarios.\n",
        "\n",
        "Para guardar directamente en tu Google Drive, solo elige la opción **Archivo → Guardar una copia en Drive**."
      ],
      "metadata": {
        "id": "-ef7Ax6UxCEM"
      }
    },
    {
      "cell_type": "markdown",
      "source": [
        "# Documentación por *Markdown*\n",
        "En Colab, no necesitas obligatoriamente usar Markdown para documentar tu texto. Hay un mini editor disponible.\n",
        "\n",
        "De esta manera, es más fácil definir cuáles son los encabezados, poner en negrita o cursiva, insertar temas o incluso imágenes."
      ],
      "metadata": {
        "id": "yiAiGCrSxJAr"
      }
    },
    {
      "cell_type": "markdown",
      "source": [
        "# Ecuaciones y Fórmulas con LaTex:\n",
        "Otro recurso muy poderoso es el uso de LaTex dentro del cuaderno. Puedes escribir ecuaciones, fórmulas matemáticas, usar símbolos especiales de la misma manera que lo harías en tu editor.\n",
        "\n",
        "¡Hay la posibilidad de crear diagramas, gráficos y representar matrices, todo con LaTex!"
      ],
      "metadata": {
        "id": "YutNmAuNxk9A"
      }
    },
    {
      "cell_type": "markdown",
      "source": [
        "$$\n",
        "\\begin{equation*}\n",
        "\\left( \\sum_{k=1}^n a_k b_k \\right)^2 \\leq \\left( \\sum_{k=1}^n a_k^2 \\right) \\left( \\sum_{k=1}^n b_k^2 \\right)\n",
        "\\end{equation*}\n",
        "$$"
      ],
      "metadata": {
        "id": "SlVxLCSWyYik"
      }
    },
    {
      "cell_type": "markdown",
      "source": [
        "$$\n",
        "\\mathbf{J}\n",
        "=\n",
        "\\frac{d \\mathbf{f}}{d \\mathbf{x}}\n",
        "=\n",
        "\\left[ \\frac{\\partial \\mathbf{f}}{\\partial x_1}\n",
        "\\cdots \\frac{\\partial \\mathbf{f}}{\\partial x_n} \\right]\n",
        "=\n",
        "\\begin{bmatrix}\n",
        "\\frac{\\partial f_1}{\\partial x_1} & \\cdots &\n",
        "\\frac{\\partial f_1}{\\partial x_n} \\\\\n",
        "\\vdots & \\ddots & \\vdots \\\\\n",
        "\\frac{\\partial f_m}{\\partial x_1} & \\cdots &\n",
        "\\frac{\\partial f_m}{\\partial x_n}\n",
        "\\end{bmatrix}\n",
        "$$"
      ],
      "metadata": {
        "id": "1PRdePq4zahr"
      }
    },
    {
      "cell_type": "markdown",
      "source": [
        "Si necesitas crear un \"contenedor\" para las fórmulas, debes comenzar una línea con $$ y terminar la última línea con $$.\n",
        "\n",
        "Si deseas usar el LaTex de forma en línea, utilizas $ al inicio y $ al final, $\\sum_{k=1}^n$, de esta manera."
      ],
      "metadata": {
        "id": "K6NHxNzYzyeN"
      }
    },
    {
      "cell_type": "markdown",
      "source": [
        "Un sitio excelente para usar como referencia, con muchos ejemplos, [es este.](https://www.math.ubc.ca/~pwalls/math-python/jupyter/latex/)"
      ],
      "metadata": {
        "id": "lVSY-YNG0aRO"
      }
    },
    {
      "cell_type": "markdown",
      "source": [
        "# Usar la webcam de tu computadora:\n",
        "Colab ya trae numerosos *fragmentos de código* listos para usar. Con ellos, no tienes que escribir ningún código y puedes usar varias funcionalidades, como tomar una foto con tu cámara."
      ],
      "metadata": {
        "id": "DVwJe0v71-NS"
      }
    },
    {
      "cell_type": "code",
      "source": [
        "from IPython.display import display, Javascript\n",
        "from google.colab.output import eval_js\n",
        "\n",
        "from base64 import b64decode\n",
        "\n",
        "def take_photo(filename='photo.jpg', quality=0.8):\n",
        "  js = Javascript('''\n",
        "    async function takePhoto(quality) {\n",
        "      const div = document.createElement('div');\n",
        "      const capture = document.createElement('button');\n",
        "      capture.textContent = 'Capture';\n",
        "      div.appendChild(capture);\n",
        "\n",
        "      const video = document.createElement('video');\n",
        "      video.style.display = 'block';\n",
        "      const stream = await navigator.mediaDevices.getUserMedia({video: true});\n",
        "\n",
        "      document.body.appendChild(div);\n",
        "      div.appendChild(video);\n",
        "      video.srcObject = stream;\n",
        "      await video.play();\n",
        "\n",
        "      // Resize the output to fit the video element.\n",
        "      google.colab.output.setIframeHeight(document.documentElement.scrollHeight, true);\n",
        "\n",
        "      // Wait for Capture to be clicked.\n",
        "      await new Promise((resolve) => capture.onclick = resolve);\n",
        "\n",
        "      const canvas = document.createElement('canvas');\n",
        "      canvas.width = video.videoWidth;\n",
        "      canvas.height = video.videoHeight;\n",
        "      canvas.getContext('2d').drawImage(video, 0, 0);\n",
        "      stream.getVideoTracks()[0].stop();\n",
        "      div.remove();\n",
        "      return canvas.toDataURL('image/jpeg', quality);\n",
        "    }\n",
        "    ''')\n",
        "  display(js)\n",
        "  data = eval_js('takePhoto({})'.format(quality))\n",
        "  binary = b64decode(data.split(',')[1])\n",
        "  with open(filename, 'wb') as f:\n",
        "    f.write(binary)\n",
        "  return filename"
      ],
      "metadata": {
        "id": "pe8-vQ2B2P5G"
      },
      "execution_count": null,
      "outputs": []
    },
    {
      "cell_type": "code",
      "source": [
        "from IPython.display import Image\n",
        "try:\n",
        "  filename = take_photo()\n",
        "  print('Saved to {}'.format(filename))\n",
        "\n",
        "  # Show the image which was just taken.\n",
        "  display(Image(filename))\n",
        "except Exception as err:\n",
        "  # Errors will be thrown if the user does not have a webcam or if they do not\n",
        "  # grant the page permission to access it.\n",
        "  print(str(err))"
      ],
      "metadata": {
        "colab": {
          "base_uri": "https://localhost:8080/",
          "height": 514
        },
        "id": "GWT3LUuA2Ui4",
        "outputId": "77ed0eb4-f81e-4b3a-ed2a-7d224c7d74b7"
      },
      "execution_count": null,
      "outputs": [
        {
          "output_type": "display_data",
          "data": {
            "text/plain": [
              "<IPython.core.display.Javascript object>"
            ],
            "application/javascript": [
              "\n",
              "    async function takePhoto(quality) {\n",
              "      const div = document.createElement('div');\n",
              "      const capture = document.createElement('button');\n",
              "      capture.textContent = 'Capture';\n",
              "      div.appendChild(capture);\n",
              "\n",
              "      const video = document.createElement('video');\n",
              "      video.style.display = 'block';\n",
              "      const stream = await navigator.mediaDevices.getUserMedia({video: true});\n",
              "\n",
              "      document.body.appendChild(div);\n",
              "      div.appendChild(video);\n",
              "      video.srcObject = stream;\n",
              "      await video.play();\n",
              "\n",
              "      // Resize the output to fit the video element.\n",
              "      google.colab.output.setIframeHeight(document.documentElement.scrollHeight, true);\n",
              "\n",
              "      // Wait for Capture to be clicked.\n",
              "      await new Promise((resolve) => capture.onclick = resolve);\n",
              "\n",
              "      const canvas = document.createElement('canvas');\n",
              "      canvas.width = video.videoWidth;\n",
              "      canvas.height = video.videoHeight;\n",
              "      canvas.getContext('2d').drawImage(video, 0, 0);\n",
              "      stream.getVideoTracks()[0].stop();\n",
              "      div.remove();\n",
              "      return canvas.toDataURL('image/jpeg', quality);\n",
              "    }\n",
              "    "
            ]
          },
          "metadata": {}
        },
        {
          "output_type": "stream",
          "name": "stdout",
          "text": [
            "Saved to photo.jpg\n"
          ]
        },
        {
          "output_type": "display_data",
          "data": {
            "image/jpeg": "[encoded data removed]",
            "text/plain": [
              "<IPython.core.display.Image object>"
            ]
          },
          "metadata": {}
        }
      ]
    }
  ]
}
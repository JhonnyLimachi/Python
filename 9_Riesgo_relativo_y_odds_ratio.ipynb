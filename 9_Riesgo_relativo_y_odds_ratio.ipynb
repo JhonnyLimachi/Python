{
  "nbformat": 4,
  "nbformat_minor": 0,
  "metadata": {
    "colab": {
      "provenance": [],
      "authorship_tag": "ABX9TyMn5Jd2VPzPeA3MEUqAXyxl",
      "include_colab_link": true
    },
    "kernelspec": {
      "name": "python3",
      "display_name": "Python 3"
    },
    "language_info": {
      "name": "python"
    }
  },
  "cells": [
    {
      "cell_type": "markdown",
      "metadata": {
        "id": "view-in-github",
        "colab_type": "text"
      },
      "source": [
        "<a href=\"https://colab.research.google.com/github/JhonnyLimachi/Python/blob/main/9_Riesgo_relativo_y_odds_ratio.ipynb\" target=\"_parent\"><img src=\"https://colab.research.google.com/assets/colab-badge.svg\" alt=\"Open In Colab\"/></a>"
      ]
    },
    {
      "cell_type": "code",
      "source": [
        "import numpy as np\n",
        "import pandas as pd"
      ],
      "metadata": {
        "id": "ob8HYNslGfH1"
      },
      "execution_count": 3,
      "outputs": []
    },
    {
      "cell_type": "code",
      "source": [
        "# Datos de ejemplo\n",
        "# Supongamos que tenemos los siguientes datos:\n",
        "# Grupo de tratamiento con Miltefosina: pacientes_curados_miltefosina, total_pacientes_miltefosina\n",
        "# Grupo de tratamiento con Glucantime: pacientes_curados_glucantime, total_pacientes_glucantime\n",
        "pacientes_curados_miltefosina = 100\n",
        "total_pacientes_miltefosina = 200\n",
        "pacientes_curados_glucantime = 80\n",
        "total_pacientes_glucantime = 180"
      ],
      "metadata": {
        "id": "pxqw8WtMG-Cn"
      },
      "execution_count": 6,
      "outputs": []
    },
    {
      "cell_type": "code",
      "source": [
        "# Crear un DataFrame de pandas para la tabla 2x2\n",
        "data = {\n",
        "    'Tratamiento': ['Miltefosina', 'Glucantime'],\n",
        "    'Curados': [pacientes_curados_miltefosina, pacientes_curados_glucantime],\n",
        "    'No Curados': [total_pacientes_miltefosina - pacientes_curados_miltefosina, total_pacientes_glucantime - pacientes_curados_glucantime]\n",
        "}\n",
        "\n",
        "df = pd.DataFrame(data)\n",
        "df.set_index('Tratamiento', inplace=True)\n",
        "\n",
        "print(\"Tabla 2x2:\")\n",
        "print(df)"
      ],
      "metadata": {
        "colab": {
          "base_uri": "https://localhost:8080/"
        },
        "id": "pmGnSa0YIM60",
        "outputId": "7986af82-fb16-4863-9d47-1346258eb41b"
      },
      "execution_count": 9,
      "outputs": [
        {
          "output_type": "stream",
          "name": "stdout",
          "text": [
            "Tabla 2x2:\n",
            "             Curados  No Curados\n",
            "Tratamiento                     \n",
            "Miltefosina      100         100\n",
            "Glucantime        80         100\n"
          ]
        }
      ]
    },
    {
      "cell_type": "code",
      "source": [
        "# Calcular el riesgo relativo (RR)\n",
        "RR = (pacientes_curados_miltefosina / total_pacientes_miltefosina) / (pacientes_curados_glucantime / total_pacientes_glucantime)\n",
        "print(\"Riesgo Relativo (RR):\", RR)"
      ],
      "metadata": {
        "colab": {
          "base_uri": "https://localhost:8080/"
        },
        "id": "onkrFdTsHDic",
        "outputId": "0e0a6b52-9c7c-4188-f172-076659a2f29e"
      },
      "execution_count": 7,
      "outputs": [
        {
          "output_type": "stream",
          "name": "stdout",
          "text": [
            "Riesgo Relativo (RR): 1.125\n"
          ]
        }
      ]
    },
    {
      "cell_type": "code",
      "source": [
        "# Calcular la odds ratio (OR)\n",
        "odds_miltefosina = pacientes_curados_miltefosina / (total_pacientes_miltefosina - pacientes_curados_miltefosina)\n",
        "odds_glucantime = pacientes_curados_glucantime / (total_pacientes_glucantime - pacientes_curados_glucantime)\n",
        "OR = (odds_miltefosina / odds_glucantime)\n",
        "print(\"Odds Ratio (OR):\", OR)"
      ],
      "metadata": {
        "colab": {
          "base_uri": "https://localhost:8080/"
        },
        "id": "KloFEQGEH5_n",
        "outputId": "736fd3c5-a2f9-417a-e63f-d6ff5a287ee3"
      },
      "execution_count": 8,
      "outputs": [
        {
          "output_type": "stream",
          "name": "stdout",
          "text": [
            "Odds Ratio (OR): 1.25\n"
          ]
        }
      ]
    },
    {
      "cell_type": "code",
      "source": [
        "from scipy.stats import chi2_contingency"
      ],
      "metadata": {
        "id": "OuJuiE3hIoos"
      },
      "execution_count": 29,
      "outputs": []
    },
    {
      "cell_type": "code",
      "source": [
        "# Datos de ejemplo\n",
        "# Supongamos que tenemos los siguientes datos:\n",
        "# Grupo de tratamiento con Miltefosina: pacientes_curados_miltefosina, total_pacientes_miltefosina\n",
        "# Grupo de tratamiento con Glucantime: pacientes_curados_glucantime, total_pacientes_glucantime\n",
        "\n",
        "pacientes_curados_miltefosina = 20\n",
        "total_pacientes_miltefosina = 202\n",
        "pacientes_curados_glucantime = 8\n",
        "total_pacientes_glucantime = 180"
      ],
      "metadata": {
        "id": "1jnu6HtQJmTz"
      },
      "execution_count": 34,
      "outputs": []
    },
    {
      "cell_type": "code",
      "source": [
        "# Crear una matriz para la tabla 2x2\n",
        "observed = [[pacientes_curados_miltefosina, total_pacientes_miltefosina - pacientes_curados_miltefosina],\n",
        "            [pacientes_curados_glucantime, total_pacientes_glucantime - pacientes_curados_glucantime]]"
      ],
      "metadata": {
        "id": "KCDuDBDVItb2"
      },
      "execution_count": 35,
      "outputs": []
    },
    {
      "cell_type": "code",
      "source": [
        "# Calcular el intervalo de confianza (opcional)\n",
        "# Para calcular el intervalo de confianza, primero necesitamos importar el módulo stats de scipy\n",
        "from scipy import stats"
      ],
      "metadata": {
        "id": "G3i4BANbJMDN"
      },
      "execution_count": 36,
      "outputs": []
    },
    {
      "cell_type": "code",
      "source": [
        "# Calcular el chi-cuadrado y el valor p\n",
        "chi2, p, dof, expected = chi2_contingency(observed)\n",
        "print(\"Chi-cuadrado:\", chi2)\n",
        "print(\"Valor p:\", p)\n",
        "print(\"Grados de libertad:\", dof)\n",
        "\n",
        "# Calcular el intervalo de confianza del 95%\n",
        "confidence_interval = stats.chi2.interval(0.95, dof)\n",
        "print(\"Intervalo de confianza del 95%:\", confidence_interval)"
      ],
      "metadata": {
        "colab": {
          "base_uri": "https://localhost:8080/"
        },
        "id": "_WiizBzkJVgL",
        "outputId": "fbcc3b98-8e58-4547-c18e-e72419000305"
      },
      "execution_count": 37,
      "outputs": [
        {
          "output_type": "stream",
          "name": "stdout",
          "text": [
            "Chi-cuadrado: 3.4075228290585313\n",
            "Valor p: 0.06489980293971336\n",
            "Grados de libertad: 1\n",
            "Intervalo de confianza del 95%: (0.0009820691171752583, 5.023886187314888)\n"
          ]
        }
      ]
    }
  ]
}
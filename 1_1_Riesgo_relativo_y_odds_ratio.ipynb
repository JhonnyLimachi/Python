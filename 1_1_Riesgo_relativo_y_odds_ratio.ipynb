{
  "nbformat": 4,
  "nbformat_minor": 0,
  "metadata": {
    "colab": {
      "provenance": [],
      "authorship_tag": "ABX9TyOU1BrGhtcFhsCa8FWi4TPq",
      "include_colab_link": true
    },
    "kernelspec": {
      "name": "python3",
      "display_name": "Python 3"
    },
    "language_info": {
      "name": "python"
    }
  },
  "cells": [
    {
      "cell_type": "markdown",
      "metadata": {
        "id": "view-in-github",
        "colab_type": "text"
      },
      "source": [
        "<a href=\"https://colab.research.google.com/github/JhonnyLimachi/Python/blob/main/1_1_Riesgo_relativo_y_odds_ratio.ipynb\" target=\"_parent\"><img src=\"https://colab.research.google.com/assets/colab-badge.svg\" alt=\"Open In Colab\"/></a>"
      ]
    },
    {
      "cell_type": "code",
      "source": [
        "import numpy as np\n",
        "import pandas as pd"
      ],
      "metadata": {
        "id": "ob8HYNslGfH1"
      },
      "execution_count": 3,
      "outputs": []
    },
    {
      "cell_type": "code",
      "source": [
        "pacientes_curados_miltefosina = 100\n",
        "total_pacientes_miltefosina = 200\n",
        "pacientes_curados_glucantime = 80\n",
        "total_pacientes_glucantime = 180"
      ],
      "metadata": {
        "id": "pxqw8WtMG-Cn"
      },
      "execution_count": 4,
      "outputs": []
    },
    {
      "cell_type": "code",
      "source": [
        "RR = (pacientes_curados_miltefosina / total_pacientes_miltefosina) / (pacientes_curados_glucantime / total_pacientes_glucantime)\n",
        "print(\"Riesgo Relativo (RR):\", RR)"
      ],
      "metadata": {
        "id": "onkrFdTsHDic"
      },
      "execution_count": null,
      "outputs": []
    }
  ]
}
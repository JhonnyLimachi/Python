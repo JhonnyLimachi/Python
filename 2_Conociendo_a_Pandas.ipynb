{
  "nbformat": 4,
  "nbformat_minor": 0,
  "metadata": {
    "colab": {
      "provenance": [],
      "toc_visible": true,
      "authorship_tag": "ABX9TyNuIUqszxiWXaFWbRs3uyMC",
      "include_colab_link": true
    },
    "kernelspec": {
      "name": "python3",
      "display_name": "Python 3"
    },
    "language_info": {
      "name": "python"
    }
  },
  "cells": [
    {
      "cell_type": "markdown",
      "metadata": {
        "id": "view-in-github",
        "colab_type": "text"
      },
      "source": [
        "<a href=\"https://colab.research.google.com/github/JhonnyLimachi/Python/blob/main/2_Conociendo_a_Pandas.ipynb\" target=\"_parent\"><img src=\"https://colab.research.google.com/assets/colab-badge.svg\" alt=\"Open In Colab\"/></a>"
      ]
    },
    {
      "cell_type": "markdown",
      "source": [
        "<img alt=\"Colaboratory logo\" width=\"15%\" src=\"https://raw.githubusercontent.com/carlosfab/escola-data-science/master/img/novo_logo_bg_claro.png\">\n",
        "\n",
        "#### **Data Science en la Prática 4.0**\n",
        "*by [sigmoidal.ai](https://sigmoidal.ai)*\n",
        "\n",
        "---\n",
        "\n",
        "# Introducción a Pandas\n",
        "\n",
        "<center><img src=\"https://miro.medium.com/max/819/1*Dss7A8Z-M4x8LD9ccgw7pQ.png\" height=\"300px\"></center>"
      ],
      "metadata": {
        "id": "60ow8jv_cuff"
      }
    },
    {
      "cell_type": "markdown",
      "source": [
        "\n",
        "Pandas es una biblioteca de Python, probablemente una de las más populares cuando se trata de Ciencia de Datos.\n",
        "\n",
        "A través de Pandas, puedes importar datos, como archivos `csv`y `xls`, tratar esos datos, transformarlos y realizar análisis completos de los mismos.\n",
        "\n",
        "Una vez que importas un conjunto de datos usando Pandas, se vuelve muy fácil realizar tareas como:\n",
        "\n",
        "Extraer información estadística\n",
        "   * ¿Cuál es la media, mediana, valores máximos y mínimos?\n",
        "   * ¿Cuál es la distribución de tus variables?\n",
        "   * ¿Cuál es la correlación entre dos variables cualquiera?\n",
        "\n",
        "* Exportar los datos a un nuevo formato de archivo.\n",
        "* Visualizar gráficos de diferentes tipos.\n",
        "* Alimentar modelos de machine learning construidos sobre Scikit-learn.\n",
        "\n",
        "Pandas está construido sobre otra biblioteca extremadamente popular, NumPy. Quienes hayan utilizado NumPy encontrarán muchas similitudes con Pandas."
      ],
      "metadata": {
        "id": "aKDL8v4reC0a"
      }
    },
    {
      "cell_type": "markdown",
      "source": [],
      "metadata": {
        "id": "CWruydK7e_X7"
      }
    },
    {
      "cell_type": "markdown",
      "source": [
        "## Instalación y uso de Pandas\n",
        "Si estás ejecutando el código en tu máquina local, puedes instalar Pandas a través de la línea de comandos utilizando tu gestor de paquetes (`pip` o `conda`).\n",
        "\n",
        "Dependiendo de cuál estés utilizando, el comando que debes usar es:\n",
        "\n",
        "`pip install pandas`\n",
        "\n",
        "o\n",
        "\n",
        "`conda install pandas`\n",
        "\n",
        "Dado que estamos utilizando Colab en este curso, Pandas ya está instalado por defecto. Esto significa que lo único que necesitas hacer es importar la biblioteca. Normalmente, para importar cualquier paquete, simplemente usas el comando `import nombre_del_paquete`.\n",
        "\n",
        "Sin embargo, es muy común que importemos Pandas usando `import pandas as pd` para abreviar el nombre de la biblioteca. Si observas proyectos de otros científicos de datos, probablemente notarás que esta es la forma en que suelen hacerlo."
      ],
      "metadata": {
        "id": "9sJIi4EQhhd4"
      }
    },
    {
      "cell_type": "code",
      "source": [
        "# importar la biblioteca pandas\n",
        "import pandas as pd"
      ],
      "metadata": {
        "id": "2n33ZXALBH9f"
      },
      "execution_count": null,
      "outputs": []
    },
    {
      "cell_type": "markdown",
      "source": [
        "### Importar archivos `csv`\n",
        "\n",
        "Para dar un ejemplo de como es simple importar datos com  Pandas, vea el seguiente ejemplo.\n",
        "\n",
        "Por el site [Yahoo Finance](https://finance.yahoo.com/quote/BBAS3.SA/history?p=BBAS3.SA), baje los datos de acción ordinária del Banco de Brasil (BBAS3) en formato `csv` y disponibilice el archivo [neste link](https://raw.githubusercontent.com/carlosfab/curso_data_science_na_pratica/master/modulo_02/BBAS3.SA.csv). Si abriera ese archivo en mi máquina por el Excel, es asi que el va aparecer para mi:\n",
        "\n",
        "<center><img src=\"https://raw.githubusercontent.com/carlosfab/curso_data_science_na_pratica/master/modulo_02/bbas3_excel.png\" height=\"300px\"></center>"
      ],
      "metadata": {
        "id": "0Ybynkg1BRnN"
      }
    },
    {
      "cell_type": "markdown",
      "source": [
        "Sí, importar un archivo utilizando Pandas es tan sencillo como ejecutar la función `pd.read_csv(\"ubicación_del_archivo.csv\")`, indicando la dirección donde se encuentra el archivo CSV, ya sea una dirección web o una ruta local en la máquina."
      ],
      "metadata": {
        "id": "I8gW3gEpCyna"
      }
    },
    {
      "cell_type": "code",
      "source": [
        "import pandas as pd\n"
      ],
      "metadata": {
        "id": "hZCVLpf7C-0t"
      },
      "execution_count": null,
      "outputs": []
    },
    {
      "cell_type": "code",
      "source": [
        "#importar el archivo csv para Pandas\n",
        "df = pd.read_csv (\"https://raw.githubusercontent.com/carlosfab/dsnp2/master/datasets/BBAS3.SA.csv\")"
      ],
      "metadata": {
        "id": "iHAFPrYTDEbG"
      },
      "execution_count": null,
      "outputs": []
    },
    {
      "cell_type": "markdown",
      "source": [
        "Listo! El archivo `BBAS3.SA.csv` fue importado con exito y yá está listo para ser usado neste *notebook*.\n",
        "\n",
        "Conociendo los componentes básicos de Pandas\n",
        "Los dos componentes básicos que debemos conocer al trabajar con Pandas son `Series` e `DataFrame`.\n",
        "\n",
        "<center><img src=\"https://raw.githubusercontent.com/carlosfab/curso_data_science_na_pratica/master/modulo_02/componentes_pandas.png\"></center>\n",
        "\n",
        "Simplificadamente, puedes pensar que el `DataFrame` siendo como una planilla de Excel, y `Series` como siendo apenas una columna individual.\n",
        "\n",
        "Apesar de parecer conceptualmente simple, estas dos estructuras nativas del Pandas facilita mucho el trabajo con datos, una vez que ellas pueden almacenar cualquer tipo de dato.\n",
        "\n",
        "* `type()` - muestra cual es el tipo de variable"
      ],
      "metadata": {
        "id": "TenAqhufDhuy"
      }
    },
    {
      "cell_type": "code",
      "source": [
        "# ver el tipo de variable df\n",
        "type(df)"
      ],
      "metadata": {
        "colab": {
          "base_uri": "https://localhost:8080/"
        },
        "id": "nTU9jPMPIcyk",
        "outputId": "bc4c0937-fafc-41fe-db25-6dcb65286cb9"
      },
      "execution_count": null,
      "outputs": [
        {
          "output_type": "execute_result",
          "data": {
            "text/plain": [
              "pandas.core.frame.DataFrame"
            ]
          },
          "metadata": {},
          "execution_count": 4
        }
      ]
    },
    {
      "cell_type": "code",
      "source": [
        "# ver el tipo de una columna de la variable df\n",
        "type(df['Close'])"
      ],
      "metadata": {
        "colab": {
          "base_uri": "https://localhost:8080/"
        },
        "id": "wTAxcfGKJGT3",
        "outputId": "8d88cf26-6b60-48c3-9afa-6ec7b6d3e0ee"
      },
      "execution_count": null,
      "outputs": [
        {
          "output_type": "execute_result",
          "data": {
            "text/plain": [
              "pandas.core.series.Series"
            ]
          },
          "metadata": {},
          "execution_count": 15
        }
      ]
    },
    {
      "cell_type": "markdown",
      "source": [
        "## Para ver las dimensiones del DataFrame\n",
        "Mira nuevamente la imagen de arriba. Básicamente, el archivo que importamos se asemeja a una simple tabla de Excel, compuesta por filas y columnas. Para conocer el tamaño de esta \"tabla\", es decir, para ver su formato *(shape)*, simplemente ejecuta `df.shape`.\n",
        "\n",
        "\n",
        "\n"
      ],
      "metadata": {
        "id": "9sZe0mZGJVzE"
      }
    },
    {
      "cell_type": "code",
      "source": [
        "# ver el tamaño del dataframe (formato)\n",
        "df.shape"
      ],
      "metadata": {
        "colab": {
          "base_uri": "https://localhost:8080/"
        },
        "id": "u-couZ6VJyUt",
        "outputId": "cb7751ef-1990-4156-f88a-9ec0f865c7ef"
      },
      "execution_count": null,
      "outputs": [
        {
          "output_type": "execute_result",
          "data": {
            "text/plain": [
              "(248, 7)"
            ]
          },
          "metadata": {},
          "execution_count": 16
        }
      ]
    },
    {
      "cell_type": "markdown",
      "source": [
        "Cuando ejecutes la celda de arriba, obtendrás como resultado los valores `(248, 7)`. Esto significa que el archivo importado tiene 1245 filas y 7 columnas.\n",
        "\n"
      ],
      "metadata": {
        "id": "d4dDPmXqL23O"
      }
    },
    {
      "cell_type": "markdown",
      "source": [
        "## Conociendo los datos\n",
        "Una vez que hayas importado tu conjunto de datos a Pandas, hay muchos atributos y métodos nativos del DataFrame que facilitan mucho la exploración de datos.\n",
        "\n",
        "Una de las principales funciones de la biblioteca, y que utilizarás en prácticamente todos tus proyectos, es `df.head()` y `df.tail()`.\n",
        "\n",
        "El archivo `csv` con los datos de la acción BBAS3 contiene 248 filas, pero lo normal es trabajar con miles o cientos de miles de filas. Obviamente, sería inviable revisar cada fila para entender cómo se presentan los datos.\n",
        "\n",
        "De hecho, cuando importamos un conjunto de datos, generalmente queremos echar un vistazo rápido a algunas entradas solo para tener una idea de los datos con los que vamos a trabajar. Esto se hace fácilmente con:\n",
        "\n",
        "`df.head()`: muestra las 5 primeras entradas del conjunto de datos.\n",
        "`df.tail()`: muestra las 5 últimas entradas del conjunto de datos."
      ],
      "metadata": {
        "id": "-c6ORABuOyv8"
      }
    },
    {
      "cell_type": "code",
      "source": [
        "# mostrar las 5 primeras entradas del DataFrame\n",
        "df.head()"
      ],
      "metadata": {
        "colab": {
          "base_uri": "https://localhost:8080/",
          "height": 206
        },
        "id": "q23yOe8TL4BW",
        "outputId": "06233a0f-303a-44af-9b28-79dcc6e98faf"
      },
      "execution_count": null,
      "outputs": [
        {
          "output_type": "execute_result",
          "data": {
            "text/plain": [
              "         Date       Open       High        Low      Close  Adj Close  \\\n",
              "0  2019-05-06  49.470001  49.669998  49.180000  49.369999  46.886795   \n",
              "1  2019-05-07  49.080002  49.680000  48.220001  49.490002  47.000763   \n",
              "2  2019-05-08  49.500000  50.840000  49.500000  50.590000  48.045422   \n",
              "3  2019-05-09  50.910000  51.259998  50.119999  51.029999  48.463291   \n",
              "4  2019-05-10  51.099998  51.189999  49.860001  50.160000  47.637051   \n",
              "\n",
              "       Volume  \n",
              "0   6314800.0  \n",
              "1  10846100.0  \n",
              "2  14459600.0  \n",
              "3  15377500.0  \n",
              "4   8975300.0  "
            ],
            "text/html": [
              "\n",
              "  <div id=\"df-7e2c660e-20ee-4632-9c3b-ee38e2d822e4\" class=\"colab-df-container\">\n",
              "    <div>\n",
              "<style scoped>\n",
              "    .dataframe tbody tr th:only-of-type {\n",
              "        vertical-align: middle;\n",
              "    }\n",
              "\n",
              "    .dataframe tbody tr th {\n",
              "        vertical-align: top;\n",
              "    }\n",
              "\n",
              "    .dataframe thead th {\n",
              "        text-align: right;\n",
              "    }\n",
              "</style>\n",
              "<table border=\"1\" class=\"dataframe\">\n",
              "  <thead>\n",
              "    <tr style=\"text-align: right;\">\n",
              "      <th></th>\n",
              "      <th>Date</th>\n",
              "      <th>Open</th>\n",
              "      <th>High</th>\n",
              "      <th>Low</th>\n",
              "      <th>Close</th>\n",
              "      <th>Adj Close</th>\n",
              "      <th>Volume</th>\n",
              "    </tr>\n",
              "  </thead>\n",
              "  <tbody>\n",
              "    <tr>\n",
              "      <th>0</th>\n",
              "      <td>2019-05-06</td>\n",
              "      <td>49.470001</td>\n",
              "      <td>49.669998</td>\n",
              "      <td>49.180000</td>\n",
              "      <td>49.369999</td>\n",
              "      <td>46.886795</td>\n",
              "      <td>6314800.0</td>\n",
              "    </tr>\n",
              "    <tr>\n",
              "      <th>1</th>\n",
              "      <td>2019-05-07</td>\n",
              "      <td>49.080002</td>\n",
              "      <td>49.680000</td>\n",
              "      <td>48.220001</td>\n",
              "      <td>49.490002</td>\n",
              "      <td>47.000763</td>\n",
              "      <td>10846100.0</td>\n",
              "    </tr>\n",
              "    <tr>\n",
              "      <th>2</th>\n",
              "      <td>2019-05-08</td>\n",
              "      <td>49.500000</td>\n",
              "      <td>50.840000</td>\n",
              "      <td>49.500000</td>\n",
              "      <td>50.590000</td>\n",
              "      <td>48.045422</td>\n",
              "      <td>14459600.0</td>\n",
              "    </tr>\n",
              "    <tr>\n",
              "      <th>3</th>\n",
              "      <td>2019-05-09</td>\n",
              "      <td>50.910000</td>\n",
              "      <td>51.259998</td>\n",
              "      <td>50.119999</td>\n",
              "      <td>51.029999</td>\n",
              "      <td>48.463291</td>\n",
              "      <td>15377500.0</td>\n",
              "    </tr>\n",
              "    <tr>\n",
              "      <th>4</th>\n",
              "      <td>2019-05-10</td>\n",
              "      <td>51.099998</td>\n",
              "      <td>51.189999</td>\n",
              "      <td>49.860001</td>\n",
              "      <td>50.160000</td>\n",
              "      <td>47.637051</td>\n",
              "      <td>8975300.0</td>\n",
              "    </tr>\n",
              "  </tbody>\n",
              "</table>\n",
              "</div>\n",
              "    <div class=\"colab-df-buttons\">\n",
              "\n",
              "  <div class=\"colab-df-container\">\n",
              "    <button class=\"colab-df-convert\" onclick=\"convertToInteractive('df-7e2c660e-20ee-4632-9c3b-ee38e2d822e4')\"\n",
              "            title=\"Convert this dataframe to an interactive table.\"\n",
              "            style=\"display:none;\">\n",
              "\n",
              "  <svg xmlns=\"http://www.w3.org/2000/svg\" height=\"24px\" viewBox=\"0 -960 960 960\">\n",
              "    <path d=\"M120-120v-720h720v720H120Zm60-500h600v-160H180v160Zm220 220h160v-160H400v160Zm0 220h160v-160H400v160ZM180-400h160v-160H180v160Zm440 0h160v-160H620v160ZM180-180h160v-160H180v160Zm440 0h160v-160H620v160Z\"/>\n",
              "  </svg>\n",
              "    </button>\n",
              "\n",
              "  <style>\n",
              "    .colab-df-container {\n",
              "      display:flex;\n",
              "      gap: 12px;\n",
              "    }\n",
              "\n",
              "    .colab-df-convert {\n",
              "      background-color: #E8F0FE;\n",
              "      border: none;\n",
              "      border-radius: 50%;\n",
              "      cursor: pointer;\n",
              "      display: none;\n",
              "      fill: #1967D2;\n",
              "      height: 32px;\n",
              "      padding: 0 0 0 0;\n",
              "      width: 32px;\n",
              "    }\n",
              "\n",
              "    .colab-df-convert:hover {\n",
              "      background-color: #E2EBFA;\n",
              "      box-shadow: 0px 1px 2px rgba(60, 64, 67, 0.3), 0px 1px 3px 1px rgba(60, 64, 67, 0.15);\n",
              "      fill: #174EA6;\n",
              "    }\n",
              "\n",
              "    .colab-df-buttons div {\n",
              "      margin-bottom: 4px;\n",
              "    }\n",
              "\n",
              "    [theme=dark] .colab-df-convert {\n",
              "      background-color: #3B4455;\n",
              "      fill: #D2E3FC;\n",
              "    }\n",
              "\n",
              "    [theme=dark] .colab-df-convert:hover {\n",
              "      background-color: #434B5C;\n",
              "      box-shadow: 0px 1px 3px 1px rgba(0, 0, 0, 0.15);\n",
              "      filter: drop-shadow(0px 1px 2px rgba(0, 0, 0, 0.3));\n",
              "      fill: #FFFFFF;\n",
              "    }\n",
              "  </style>\n",
              "\n",
              "    <script>\n",
              "      const buttonEl =\n",
              "        document.querySelector('#df-7e2c660e-20ee-4632-9c3b-ee38e2d822e4 button.colab-df-convert');\n",
              "      buttonEl.style.display =\n",
              "        google.colab.kernel.accessAllowed ? 'block' : 'none';\n",
              "\n",
              "      async function convertToInteractive(key) {\n",
              "        const element = document.querySelector('#df-7e2c660e-20ee-4632-9c3b-ee38e2d822e4');\n",
              "        const dataTable =\n",
              "          await google.colab.kernel.invokeFunction('convertToInteractive',\n",
              "                                                    [key], {});\n",
              "        if (!dataTable) return;\n",
              "\n",
              "        const docLinkHtml = 'Like what you see? Visit the ' +\n",
              "          '<a target=\"_blank\" href=https://colab.research.google.com/notebooks/data_table.ipynb>data table notebook</a>'\n",
              "          + ' to learn more about interactive tables.';\n",
              "        element.innerHTML = '';\n",
              "        dataTable['output_type'] = 'display_data';\n",
              "        await google.colab.output.renderOutput(dataTable, element);\n",
              "        const docLink = document.createElement('div');\n",
              "        docLink.innerHTML = docLinkHtml;\n",
              "        element.appendChild(docLink);\n",
              "      }\n",
              "    </script>\n",
              "  </div>\n",
              "\n",
              "\n",
              "<div id=\"df-a417cf1f-2723-4d4d-b7a7-333cdee1fec3\">\n",
              "  <button class=\"colab-df-quickchart\" onclick=\"quickchart('df-a417cf1f-2723-4d4d-b7a7-333cdee1fec3')\"\n",
              "            title=\"Suggest charts.\"\n",
              "            style=\"display:none;\">\n",
              "\n",
              "<svg xmlns=\"http://www.w3.org/2000/svg\" height=\"24px\"viewBox=\"0 0 24 24\"\n",
              "     width=\"24px\">\n",
              "    <g>\n",
              "        <path d=\"M19 3H5c-1.1 0-2 .9-2 2v14c0 1.1.9 2 2 2h14c1.1 0 2-.9 2-2V5c0-1.1-.9-2-2-2zM9 17H7v-7h2v7zm4 0h-2V7h2v10zm4 0h-2v-4h2v4z\"/>\n",
              "    </g>\n",
              "</svg>\n",
              "  </button>\n",
              "\n",
              "<style>\n",
              "  .colab-df-quickchart {\n",
              "      --bg-color: #E8F0FE;\n",
              "      --fill-color: #1967D2;\n",
              "      --hover-bg-color: #E2EBFA;\n",
              "      --hover-fill-color: #174EA6;\n",
              "      --disabled-fill-color: #AAA;\n",
              "      --disabled-bg-color: #DDD;\n",
              "  }\n",
              "\n",
              "  [theme=dark] .colab-df-quickchart {\n",
              "      --bg-color: #3B4455;\n",
              "      --fill-color: #D2E3FC;\n",
              "      --hover-bg-color: #434B5C;\n",
              "      --hover-fill-color: #FFFFFF;\n",
              "      --disabled-bg-color: #3B4455;\n",
              "      --disabled-fill-color: #666;\n",
              "  }\n",
              "\n",
              "  .colab-df-quickchart {\n",
              "    background-color: var(--bg-color);\n",
              "    border: none;\n",
              "    border-radius: 50%;\n",
              "    cursor: pointer;\n",
              "    display: none;\n",
              "    fill: var(--fill-color);\n",
              "    height: 32px;\n",
              "    padding: 0;\n",
              "    width: 32px;\n",
              "  }\n",
              "\n",
              "  .colab-df-quickchart:hover {\n",
              "    background-color: var(--hover-bg-color);\n",
              "    box-shadow: 0 1px 2px rgba(60, 64, 67, 0.3), 0 1px 3px 1px rgba(60, 64, 67, 0.15);\n",
              "    fill: var(--button-hover-fill-color);\n",
              "  }\n",
              "\n",
              "  .colab-df-quickchart-complete:disabled,\n",
              "  .colab-df-quickchart-complete:disabled:hover {\n",
              "    background-color: var(--disabled-bg-color);\n",
              "    fill: var(--disabled-fill-color);\n",
              "    box-shadow: none;\n",
              "  }\n",
              "\n",
              "  .colab-df-spinner {\n",
              "    border: 2px solid var(--fill-color);\n",
              "    border-color: transparent;\n",
              "    border-bottom-color: var(--fill-color);\n",
              "    animation:\n",
              "      spin 1s steps(1) infinite;\n",
              "  }\n",
              "\n",
              "  @keyframes spin {\n",
              "    0% {\n",
              "      border-color: transparent;\n",
              "      border-bottom-color: var(--fill-color);\n",
              "      border-left-color: var(--fill-color);\n",
              "    }\n",
              "    20% {\n",
              "      border-color: transparent;\n",
              "      border-left-color: var(--fill-color);\n",
              "      border-top-color: var(--fill-color);\n",
              "    }\n",
              "    30% {\n",
              "      border-color: transparent;\n",
              "      border-left-color: var(--fill-color);\n",
              "      border-top-color: var(--fill-color);\n",
              "      border-right-color: var(--fill-color);\n",
              "    }\n",
              "    40% {\n",
              "      border-color: transparent;\n",
              "      border-right-color: var(--fill-color);\n",
              "      border-top-color: var(--fill-color);\n",
              "    }\n",
              "    60% {\n",
              "      border-color: transparent;\n",
              "      border-right-color: var(--fill-color);\n",
              "    }\n",
              "    80% {\n",
              "      border-color: transparent;\n",
              "      border-right-color: var(--fill-color);\n",
              "      border-bottom-color: var(--fill-color);\n",
              "    }\n",
              "    90% {\n",
              "      border-color: transparent;\n",
              "      border-bottom-color: var(--fill-color);\n",
              "    }\n",
              "  }\n",
              "</style>\n",
              "\n",
              "  <script>\n",
              "    async function quickchart(key) {\n",
              "      const quickchartButtonEl =\n",
              "        document.querySelector('#' + key + ' button');\n",
              "      quickchartButtonEl.disabled = true;  // To prevent multiple clicks.\n",
              "      quickchartButtonEl.classList.add('colab-df-spinner');\n",
              "      try {\n",
              "        const charts = await google.colab.kernel.invokeFunction(\n",
              "            'suggestCharts', [key], {});\n",
              "      } catch (error) {\n",
              "        console.error('Error during call to suggestCharts:', error);\n",
              "      }\n",
              "      quickchartButtonEl.classList.remove('colab-df-spinner');\n",
              "      quickchartButtonEl.classList.add('colab-df-quickchart-complete');\n",
              "    }\n",
              "    (() => {\n",
              "      let quickchartButtonEl =\n",
              "        document.querySelector('#df-a417cf1f-2723-4d4d-b7a7-333cdee1fec3 button');\n",
              "      quickchartButtonEl.style.display =\n",
              "        google.colab.kernel.accessAllowed ? 'block' : 'none';\n",
              "    })();\n",
              "  </script>\n",
              "</div>\n",
              "    </div>\n",
              "  </div>\n"
            ]
          },
          "metadata": {},
          "execution_count": 11
        }
      ]
    },
    {
      "cell_type": "code",
      "source": [
        "# mostrar las 5 últimas entradas del DataFrame\n",
        "df.tail()"
      ],
      "metadata": {
        "colab": {
          "base_uri": "https://localhost:8080/",
          "height": 206
        },
        "id": "VfLrcV6PPehG",
        "outputId": "d5e690d1-7eaa-4090-d4f5-7585712f943f"
      },
      "execution_count": null,
      "outputs": [
        {
          "output_type": "execute_result",
          "data": {
            "text/plain": [
              "           Date       Open       High        Low      Close  Adj Close  \\\n",
              "243  2020-04-27  25.500000  26.200001  25.110001  25.690001  25.690001   \n",
              "244  2020-04-28  27.219999  29.250000  27.110001  29.139999  29.139999   \n",
              "245  2020-04-29  30.040001  30.209999  28.730000  29.559999  29.559999   \n",
              "246  2020-04-30  28.309999  28.780001  27.850000  28.500000  28.500000   \n",
              "247  2020-05-04  27.370001  27.760000  26.990000  27.760000  27.760000   \n",
              "\n",
              "         Volume  \n",
              "243  32132800.0  \n",
              "244  43232700.0  \n",
              "245  24628700.0  \n",
              "246  23935300.0  \n",
              "247  16586000.0  "
            ],
            "text/html": [
              "\n",
              "  <div id=\"df-bfe1e87a-2e5d-456b-a2c5-f981eab5a87b\" class=\"colab-df-container\">\n",
              "    <div>\n",
              "<style scoped>\n",
              "    .dataframe tbody tr th:only-of-type {\n",
              "        vertical-align: middle;\n",
              "    }\n",
              "\n",
              "    .dataframe tbody tr th {\n",
              "        vertical-align: top;\n",
              "    }\n",
              "\n",
              "    .dataframe thead th {\n",
              "        text-align: right;\n",
              "    }\n",
              "</style>\n",
              "<table border=\"1\" class=\"dataframe\">\n",
              "  <thead>\n",
              "    <tr style=\"text-align: right;\">\n",
              "      <th></th>\n",
              "      <th>Date</th>\n",
              "      <th>Open</th>\n",
              "      <th>High</th>\n",
              "      <th>Low</th>\n",
              "      <th>Close</th>\n",
              "      <th>Adj Close</th>\n",
              "      <th>Volume</th>\n",
              "    </tr>\n",
              "  </thead>\n",
              "  <tbody>\n",
              "    <tr>\n",
              "      <th>243</th>\n",
              "      <td>2020-04-27</td>\n",
              "      <td>25.500000</td>\n",
              "      <td>26.200001</td>\n",
              "      <td>25.110001</td>\n",
              "      <td>25.690001</td>\n",
              "      <td>25.690001</td>\n",
              "      <td>32132800.0</td>\n",
              "    </tr>\n",
              "    <tr>\n",
              "      <th>244</th>\n",
              "      <td>2020-04-28</td>\n",
              "      <td>27.219999</td>\n",
              "      <td>29.250000</td>\n",
              "      <td>27.110001</td>\n",
              "      <td>29.139999</td>\n",
              "      <td>29.139999</td>\n",
              "      <td>43232700.0</td>\n",
              "    </tr>\n",
              "    <tr>\n",
              "      <th>245</th>\n",
              "      <td>2020-04-29</td>\n",
              "      <td>30.040001</td>\n",
              "      <td>30.209999</td>\n",
              "      <td>28.730000</td>\n",
              "      <td>29.559999</td>\n",
              "      <td>29.559999</td>\n",
              "      <td>24628700.0</td>\n",
              "    </tr>\n",
              "    <tr>\n",
              "      <th>246</th>\n",
              "      <td>2020-04-30</td>\n",
              "      <td>28.309999</td>\n",
              "      <td>28.780001</td>\n",
              "      <td>27.850000</td>\n",
              "      <td>28.500000</td>\n",
              "      <td>28.500000</td>\n",
              "      <td>23935300.0</td>\n",
              "    </tr>\n",
              "    <tr>\n",
              "      <th>247</th>\n",
              "      <td>2020-05-04</td>\n",
              "      <td>27.370001</td>\n",
              "      <td>27.760000</td>\n",
              "      <td>26.990000</td>\n",
              "      <td>27.760000</td>\n",
              "      <td>27.760000</td>\n",
              "      <td>16586000.0</td>\n",
              "    </tr>\n",
              "  </tbody>\n",
              "</table>\n",
              "</div>\n",
              "    <div class=\"colab-df-buttons\">\n",
              "\n",
              "  <div class=\"colab-df-container\">\n",
              "    <button class=\"colab-df-convert\" onclick=\"convertToInteractive('df-bfe1e87a-2e5d-456b-a2c5-f981eab5a87b')\"\n",
              "            title=\"Convert this dataframe to an interactive table.\"\n",
              "            style=\"display:none;\">\n",
              "\n",
              "  <svg xmlns=\"http://www.w3.org/2000/svg\" height=\"24px\" viewBox=\"0 -960 960 960\">\n",
              "    <path d=\"M120-120v-720h720v720H120Zm60-500h600v-160H180v160Zm220 220h160v-160H400v160Zm0 220h160v-160H400v160ZM180-400h160v-160H180v160Zm440 0h160v-160H620v160ZM180-180h160v-160H180v160Zm440 0h160v-160H620v160Z\"/>\n",
              "  </svg>\n",
              "    </button>\n",
              "\n",
              "  <style>\n",
              "    .colab-df-container {\n",
              "      display:flex;\n",
              "      gap: 12px;\n",
              "    }\n",
              "\n",
              "    .colab-df-convert {\n",
              "      background-color: #E8F0FE;\n",
              "      border: none;\n",
              "      border-radius: 50%;\n",
              "      cursor: pointer;\n",
              "      display: none;\n",
              "      fill: #1967D2;\n",
              "      height: 32px;\n",
              "      padding: 0 0 0 0;\n",
              "      width: 32px;\n",
              "    }\n",
              "\n",
              "    .colab-df-convert:hover {\n",
              "      background-color: #E2EBFA;\n",
              "      box-shadow: 0px 1px 2px rgba(60, 64, 67, 0.3), 0px 1px 3px 1px rgba(60, 64, 67, 0.15);\n",
              "      fill: #174EA6;\n",
              "    }\n",
              "\n",
              "    .colab-df-buttons div {\n",
              "      margin-bottom: 4px;\n",
              "    }\n",
              "\n",
              "    [theme=dark] .colab-df-convert {\n",
              "      background-color: #3B4455;\n",
              "      fill: #D2E3FC;\n",
              "    }\n",
              "\n",
              "    [theme=dark] .colab-df-convert:hover {\n",
              "      background-color: #434B5C;\n",
              "      box-shadow: 0px 1px 3px 1px rgba(0, 0, 0, 0.15);\n",
              "      filter: drop-shadow(0px 1px 2px rgba(0, 0, 0, 0.3));\n",
              "      fill: #FFFFFF;\n",
              "    }\n",
              "  </style>\n",
              "\n",
              "    <script>\n",
              "      const buttonEl =\n",
              "        document.querySelector('#df-bfe1e87a-2e5d-456b-a2c5-f981eab5a87b button.colab-df-convert');\n",
              "      buttonEl.style.display =\n",
              "        google.colab.kernel.accessAllowed ? 'block' : 'none';\n",
              "\n",
              "      async function convertToInteractive(key) {\n",
              "        const element = document.querySelector('#df-bfe1e87a-2e5d-456b-a2c5-f981eab5a87b');\n",
              "        const dataTable =\n",
              "          await google.colab.kernel.invokeFunction('convertToInteractive',\n",
              "                                                    [key], {});\n",
              "        if (!dataTable) return;\n",
              "\n",
              "        const docLinkHtml = 'Like what you see? Visit the ' +\n",
              "          '<a target=\"_blank\" href=https://colab.research.google.com/notebooks/data_table.ipynb>data table notebook</a>'\n",
              "          + ' to learn more about interactive tables.';\n",
              "        element.innerHTML = '';\n",
              "        dataTable['output_type'] = 'display_data';\n",
              "        await google.colab.output.renderOutput(dataTable, element);\n",
              "        const docLink = document.createElement('div');\n",
              "        docLink.innerHTML = docLinkHtml;\n",
              "        element.appendChild(docLink);\n",
              "      }\n",
              "    </script>\n",
              "  </div>\n",
              "\n",
              "\n",
              "<div id=\"df-561796db-c90f-4ca9-90ff-4f3f6bcfc15a\">\n",
              "  <button class=\"colab-df-quickchart\" onclick=\"quickchart('df-561796db-c90f-4ca9-90ff-4f3f6bcfc15a')\"\n",
              "            title=\"Suggest charts.\"\n",
              "            style=\"display:none;\">\n",
              "\n",
              "<svg xmlns=\"http://www.w3.org/2000/svg\" height=\"24px\"viewBox=\"0 0 24 24\"\n",
              "     width=\"24px\">\n",
              "    <g>\n",
              "        <path d=\"M19 3H5c-1.1 0-2 .9-2 2v14c0 1.1.9 2 2 2h14c1.1 0 2-.9 2-2V5c0-1.1-.9-2-2-2zM9 17H7v-7h2v7zm4 0h-2V7h2v10zm4 0h-2v-4h2v4z\"/>\n",
              "    </g>\n",
              "</svg>\n",
              "  </button>\n",
              "\n",
              "<style>\n",
              "  .colab-df-quickchart {\n",
              "      --bg-color: #E8F0FE;\n",
              "      --fill-color: #1967D2;\n",
              "      --hover-bg-color: #E2EBFA;\n",
              "      --hover-fill-color: #174EA6;\n",
              "      --disabled-fill-color: #AAA;\n",
              "      --disabled-bg-color: #DDD;\n",
              "  }\n",
              "\n",
              "  [theme=dark] .colab-df-quickchart {\n",
              "      --bg-color: #3B4455;\n",
              "      --fill-color: #D2E3FC;\n",
              "      --hover-bg-color: #434B5C;\n",
              "      --hover-fill-color: #FFFFFF;\n",
              "      --disabled-bg-color: #3B4455;\n",
              "      --disabled-fill-color: #666;\n",
              "  }\n",
              "\n",
              "  .colab-df-quickchart {\n",
              "    background-color: var(--bg-color);\n",
              "    border: none;\n",
              "    border-radius: 50%;\n",
              "    cursor: pointer;\n",
              "    display: none;\n",
              "    fill: var(--fill-color);\n",
              "    height: 32px;\n",
              "    padding: 0;\n",
              "    width: 32px;\n",
              "  }\n",
              "\n",
              "  .colab-df-quickchart:hover {\n",
              "    background-color: var(--hover-bg-color);\n",
              "    box-shadow: 0 1px 2px rgba(60, 64, 67, 0.3), 0 1px 3px 1px rgba(60, 64, 67, 0.15);\n",
              "    fill: var(--button-hover-fill-color);\n",
              "  }\n",
              "\n",
              "  .colab-df-quickchart-complete:disabled,\n",
              "  .colab-df-quickchart-complete:disabled:hover {\n",
              "    background-color: var(--disabled-bg-color);\n",
              "    fill: var(--disabled-fill-color);\n",
              "    box-shadow: none;\n",
              "  }\n",
              "\n",
              "  .colab-df-spinner {\n",
              "    border: 2px solid var(--fill-color);\n",
              "    border-color: transparent;\n",
              "    border-bottom-color: var(--fill-color);\n",
              "    animation:\n",
              "      spin 1s steps(1) infinite;\n",
              "  }\n",
              "\n",
              "  @keyframes spin {\n",
              "    0% {\n",
              "      border-color: transparent;\n",
              "      border-bottom-color: var(--fill-color);\n",
              "      border-left-color: var(--fill-color);\n",
              "    }\n",
              "    20% {\n",
              "      border-color: transparent;\n",
              "      border-left-color: var(--fill-color);\n",
              "      border-top-color: var(--fill-color);\n",
              "    }\n",
              "    30% {\n",
              "      border-color: transparent;\n",
              "      border-left-color: var(--fill-color);\n",
              "      border-top-color: var(--fill-color);\n",
              "      border-right-color: var(--fill-color);\n",
              "    }\n",
              "    40% {\n",
              "      border-color: transparent;\n",
              "      border-right-color: var(--fill-color);\n",
              "      border-top-color: var(--fill-color);\n",
              "    }\n",
              "    60% {\n",
              "      border-color: transparent;\n",
              "      border-right-color: var(--fill-color);\n",
              "    }\n",
              "    80% {\n",
              "      border-color: transparent;\n",
              "      border-right-color: var(--fill-color);\n",
              "      border-bottom-color: var(--fill-color);\n",
              "    }\n",
              "    90% {\n",
              "      border-color: transparent;\n",
              "      border-bottom-color: var(--fill-color);\n",
              "    }\n",
              "  }\n",
              "</style>\n",
              "\n",
              "  <script>\n",
              "    async function quickchart(key) {\n",
              "      const quickchartButtonEl =\n",
              "        document.querySelector('#' + key + ' button');\n",
              "      quickchartButtonEl.disabled = true;  // To prevent multiple clicks.\n",
              "      quickchartButtonEl.classList.add('colab-df-spinner');\n",
              "      try {\n",
              "        const charts = await google.colab.kernel.invokeFunction(\n",
              "            'suggestCharts', [key], {});\n",
              "      } catch (error) {\n",
              "        console.error('Error during call to suggestCharts:', error);\n",
              "      }\n",
              "      quickchartButtonEl.classList.remove('colab-df-spinner');\n",
              "      quickchartButtonEl.classList.add('colab-df-quickchart-complete');\n",
              "    }\n",
              "    (() => {\n",
              "      let quickchartButtonEl =\n",
              "        document.querySelector('#df-561796db-c90f-4ca9-90ff-4f3f6bcfc15a button');\n",
              "      quickchartButtonEl.style.display =\n",
              "        google.colab.kernel.accessAllowed ? 'block' : 'none';\n",
              "    })();\n",
              "  </script>\n",
              "</div>\n",
              "    </div>\n",
              "  </div>\n"
            ]
          },
          "metadata": {},
          "execution_count": 13
        }
      ]
    },
    {
      "cell_type": "markdown",
      "source": [
        "Una de las razones de la popularidad de Pandas se debe a su capacidad para mostrar los datos en formato de tabla, que es muy fácil de entender para nuestra mente. Esto se asemeja al formato que estamos acostumbrados a ver, como en Excel.\n",
        "\n",
        "Supongamos que necesitas extraer solo los nombres de las columnas de tu DataFrame, simplemente debes ejecutar:"
      ],
      "metadata": {
        "id": "8EtgZG07Pt5U"
      }
    },
    {
      "cell_type": "code",
      "source": [
        "# ver los nombres de las columnas\n",
        "df.columns"
      ],
      "metadata": {
        "colab": {
          "base_uri": "https://localhost:8080/"
        },
        "id": "Dfbi3OKoPvjh",
        "outputId": "78ea9c9d-f093-4b2f-d724-2185bcea6784"
      },
      "execution_count": null,
      "outputs": [
        {
          "output_type": "execute_result",
          "data": {
            "text/plain": [
              "Index(['Date', 'Open', 'High', 'Low', 'Close', 'Adj Close', 'Volume'], dtype='object')"
            ]
          },
          "metadata": {},
          "execution_count": 18
        }
      ]
    },
    {
      "cell_type": "markdown",
      "source": [
        "\n",
        "Conocer el tipo de variable que se representa en cada columna es esencial. Por ejemplo:\n",
        "\n",
        "\n",
        "\n",
        "*   Cuando tenemos una columna que trata sobre ingresos, gastos o beneficios, es deseable que trabajemos con variables del tipo `float`.\n",
        "*   Cuando estamos tratando con años (2017, 2018, 2019), deseamos trabajar con variables del tipo `int`.\n",
        "\n",
        "*   Cuando tenemos fechas completas (`2019-12-30 07:37`), deseamos utilizar el formato `datetime` para poder manipular adecuadamente el *dataset*.\n",
        "\n",
        "\n",
        "\n",
        "Para conocer los tipos de variables de cada columna, puedes utilizar `df.dtypes`."
      ],
      "metadata": {
        "id": "eCuJWGMAQmys"
      }
    },
    {
      "cell_type": "code",
      "source": [
        "df.head(7)"
      ],
      "metadata": {
        "colab": {
          "base_uri": "https://localhost:8080/",
          "height": 269
        },
        "id": "xX1-e2PeReHA",
        "outputId": "47ff2766-1285-4500-fa94-be4d8d3bf001"
      },
      "execution_count": null,
      "outputs": [
        {
          "output_type": "execute_result",
          "data": {
            "text/plain": [
              "         Date       Open       High        Low      Close  Adj Close  \\\n",
              "0  2019-05-06  49.470001  49.669998  49.180000  49.369999  46.886795   \n",
              "1  2019-05-07  49.080002  49.680000  48.220001  49.490002  47.000763   \n",
              "2  2019-05-08  49.500000  50.840000  49.500000  50.590000  48.045422   \n",
              "3  2019-05-09  50.910000  51.259998  50.119999  51.029999  48.463291   \n",
              "4  2019-05-10  51.099998  51.189999  49.860001  50.160000  47.637051   \n",
              "5  2019-05-13  48.709999  49.389999  48.340000  48.369999  45.937088   \n",
              "6  2019-05-14  48.900002  48.980000  47.560001  47.900002  45.490726   \n",
              "\n",
              "       Volume  \n",
              "0   6314800.0  \n",
              "1  10846100.0  \n",
              "2  14459600.0  \n",
              "3  15377500.0  \n",
              "4   8975300.0  \n",
              "5  10248300.0  \n",
              "6   9642400.0  "
            ],
            "text/html": [
              "\n",
              "  <div id=\"df-1ac78b9d-319c-4ba1-8431-013fdbcc23c9\" class=\"colab-df-container\">\n",
              "    <div>\n",
              "<style scoped>\n",
              "    .dataframe tbody tr th:only-of-type {\n",
              "        vertical-align: middle;\n",
              "    }\n",
              "\n",
              "    .dataframe tbody tr th {\n",
              "        vertical-align: top;\n",
              "    }\n",
              "\n",
              "    .dataframe thead th {\n",
              "        text-align: right;\n",
              "    }\n",
              "</style>\n",
              "<table border=\"1\" class=\"dataframe\">\n",
              "  <thead>\n",
              "    <tr style=\"text-align: right;\">\n",
              "      <th></th>\n",
              "      <th>Date</th>\n",
              "      <th>Open</th>\n",
              "      <th>High</th>\n",
              "      <th>Low</th>\n",
              "      <th>Close</th>\n",
              "      <th>Adj Close</th>\n",
              "      <th>Volume</th>\n",
              "    </tr>\n",
              "  </thead>\n",
              "  <tbody>\n",
              "    <tr>\n",
              "      <th>0</th>\n",
              "      <td>2019-05-06</td>\n",
              "      <td>49.470001</td>\n",
              "      <td>49.669998</td>\n",
              "      <td>49.180000</td>\n",
              "      <td>49.369999</td>\n",
              "      <td>46.886795</td>\n",
              "      <td>6314800.0</td>\n",
              "    </tr>\n",
              "    <tr>\n",
              "      <th>1</th>\n",
              "      <td>2019-05-07</td>\n",
              "      <td>49.080002</td>\n",
              "      <td>49.680000</td>\n",
              "      <td>48.220001</td>\n",
              "      <td>49.490002</td>\n",
              "      <td>47.000763</td>\n",
              "      <td>10846100.0</td>\n",
              "    </tr>\n",
              "    <tr>\n",
              "      <th>2</th>\n",
              "      <td>2019-05-08</td>\n",
              "      <td>49.500000</td>\n",
              "      <td>50.840000</td>\n",
              "      <td>49.500000</td>\n",
              "      <td>50.590000</td>\n",
              "      <td>48.045422</td>\n",
              "      <td>14459600.0</td>\n",
              "    </tr>\n",
              "    <tr>\n",
              "      <th>3</th>\n",
              "      <td>2019-05-09</td>\n",
              "      <td>50.910000</td>\n",
              "      <td>51.259998</td>\n",
              "      <td>50.119999</td>\n",
              "      <td>51.029999</td>\n",
              "      <td>48.463291</td>\n",
              "      <td>15377500.0</td>\n",
              "    </tr>\n",
              "    <tr>\n",
              "      <th>4</th>\n",
              "      <td>2019-05-10</td>\n",
              "      <td>51.099998</td>\n",
              "      <td>51.189999</td>\n",
              "      <td>49.860001</td>\n",
              "      <td>50.160000</td>\n",
              "      <td>47.637051</td>\n",
              "      <td>8975300.0</td>\n",
              "    </tr>\n",
              "    <tr>\n",
              "      <th>5</th>\n",
              "      <td>2019-05-13</td>\n",
              "      <td>48.709999</td>\n",
              "      <td>49.389999</td>\n",
              "      <td>48.340000</td>\n",
              "      <td>48.369999</td>\n",
              "      <td>45.937088</td>\n",
              "      <td>10248300.0</td>\n",
              "    </tr>\n",
              "    <tr>\n",
              "      <th>6</th>\n",
              "      <td>2019-05-14</td>\n",
              "      <td>48.900002</td>\n",
              "      <td>48.980000</td>\n",
              "      <td>47.560001</td>\n",
              "      <td>47.900002</td>\n",
              "      <td>45.490726</td>\n",
              "      <td>9642400.0</td>\n",
              "    </tr>\n",
              "  </tbody>\n",
              "</table>\n",
              "</div>\n",
              "    <div class=\"colab-df-buttons\">\n",
              "\n",
              "  <div class=\"colab-df-container\">\n",
              "    <button class=\"colab-df-convert\" onclick=\"convertToInteractive('df-1ac78b9d-319c-4ba1-8431-013fdbcc23c9')\"\n",
              "            title=\"Convert this dataframe to an interactive table.\"\n",
              "            style=\"display:none;\">\n",
              "\n",
              "  <svg xmlns=\"http://www.w3.org/2000/svg\" height=\"24px\" viewBox=\"0 -960 960 960\">\n",
              "    <path d=\"M120-120v-720h720v720H120Zm60-500h600v-160H180v160Zm220 220h160v-160H400v160Zm0 220h160v-160H400v160ZM180-400h160v-160H180v160Zm440 0h160v-160H620v160ZM180-180h160v-160H180v160Zm440 0h160v-160H620v160Z\"/>\n",
              "  </svg>\n",
              "    </button>\n",
              "\n",
              "  <style>\n",
              "    .colab-df-container {\n",
              "      display:flex;\n",
              "      gap: 12px;\n",
              "    }\n",
              "\n",
              "    .colab-df-convert {\n",
              "      background-color: #E8F0FE;\n",
              "      border: none;\n",
              "      border-radius: 50%;\n",
              "      cursor: pointer;\n",
              "      display: none;\n",
              "      fill: #1967D2;\n",
              "      height: 32px;\n",
              "      padding: 0 0 0 0;\n",
              "      width: 32px;\n",
              "    }\n",
              "\n",
              "    .colab-df-convert:hover {\n",
              "      background-color: #E2EBFA;\n",
              "      box-shadow: 0px 1px 2px rgba(60, 64, 67, 0.3), 0px 1px 3px 1px rgba(60, 64, 67, 0.15);\n",
              "      fill: #174EA6;\n",
              "    }\n",
              "\n",
              "    .colab-df-buttons div {\n",
              "      margin-bottom: 4px;\n",
              "    }\n",
              "\n",
              "    [theme=dark] .colab-df-convert {\n",
              "      background-color: #3B4455;\n",
              "      fill: #D2E3FC;\n",
              "    }\n",
              "\n",
              "    [theme=dark] .colab-df-convert:hover {\n",
              "      background-color: #434B5C;\n",
              "      box-shadow: 0px 1px 3px 1px rgba(0, 0, 0, 0.15);\n",
              "      filter: drop-shadow(0px 1px 2px rgba(0, 0, 0, 0.3));\n",
              "      fill: #FFFFFF;\n",
              "    }\n",
              "  </style>\n",
              "\n",
              "    <script>\n",
              "      const buttonEl =\n",
              "        document.querySelector('#df-1ac78b9d-319c-4ba1-8431-013fdbcc23c9 button.colab-df-convert');\n",
              "      buttonEl.style.display =\n",
              "        google.colab.kernel.accessAllowed ? 'block' : 'none';\n",
              "\n",
              "      async function convertToInteractive(key) {\n",
              "        const element = document.querySelector('#df-1ac78b9d-319c-4ba1-8431-013fdbcc23c9');\n",
              "        const dataTable =\n",
              "          await google.colab.kernel.invokeFunction('convertToInteractive',\n",
              "                                                    [key], {});\n",
              "        if (!dataTable) return;\n",
              "\n",
              "        const docLinkHtml = 'Like what you see? Visit the ' +\n",
              "          '<a target=\"_blank\" href=https://colab.research.google.com/notebooks/data_table.ipynb>data table notebook</a>'\n",
              "          + ' to learn more about interactive tables.';\n",
              "        element.innerHTML = '';\n",
              "        dataTable['output_type'] = 'display_data';\n",
              "        await google.colab.output.renderOutput(dataTable, element);\n",
              "        const docLink = document.createElement('div');\n",
              "        docLink.innerHTML = docLinkHtml;\n",
              "        element.appendChild(docLink);\n",
              "      }\n",
              "    </script>\n",
              "  </div>\n",
              "\n",
              "\n",
              "<div id=\"df-38e46b12-3fe6-4c23-bac5-4c472c51f423\">\n",
              "  <button class=\"colab-df-quickchart\" onclick=\"quickchart('df-38e46b12-3fe6-4c23-bac5-4c472c51f423')\"\n",
              "            title=\"Suggest charts.\"\n",
              "            style=\"display:none;\">\n",
              "\n",
              "<svg xmlns=\"http://www.w3.org/2000/svg\" height=\"24px\"viewBox=\"0 0 24 24\"\n",
              "     width=\"24px\">\n",
              "    <g>\n",
              "        <path d=\"M19 3H5c-1.1 0-2 .9-2 2v14c0 1.1.9 2 2 2h14c1.1 0 2-.9 2-2V5c0-1.1-.9-2-2-2zM9 17H7v-7h2v7zm4 0h-2V7h2v10zm4 0h-2v-4h2v4z\"/>\n",
              "    </g>\n",
              "</svg>\n",
              "  </button>\n",
              "\n",
              "<style>\n",
              "  .colab-df-quickchart {\n",
              "      --bg-color: #E8F0FE;\n",
              "      --fill-color: #1967D2;\n",
              "      --hover-bg-color: #E2EBFA;\n",
              "      --hover-fill-color: #174EA6;\n",
              "      --disabled-fill-color: #AAA;\n",
              "      --disabled-bg-color: #DDD;\n",
              "  }\n",
              "\n",
              "  [theme=dark] .colab-df-quickchart {\n",
              "      --bg-color: #3B4455;\n",
              "      --fill-color: #D2E3FC;\n",
              "      --hover-bg-color: #434B5C;\n",
              "      --hover-fill-color: #FFFFFF;\n",
              "      --disabled-bg-color: #3B4455;\n",
              "      --disabled-fill-color: #666;\n",
              "  }\n",
              "\n",
              "  .colab-df-quickchart {\n",
              "    background-color: var(--bg-color);\n",
              "    border: none;\n",
              "    border-radius: 50%;\n",
              "    cursor: pointer;\n",
              "    display: none;\n",
              "    fill: var(--fill-color);\n",
              "    height: 32px;\n",
              "    padding: 0;\n",
              "    width: 32px;\n",
              "  }\n",
              "\n",
              "  .colab-df-quickchart:hover {\n",
              "    background-color: var(--hover-bg-color);\n",
              "    box-shadow: 0 1px 2px rgba(60, 64, 67, 0.3), 0 1px 3px 1px rgba(60, 64, 67, 0.15);\n",
              "    fill: var(--button-hover-fill-color);\n",
              "  }\n",
              "\n",
              "  .colab-df-quickchart-complete:disabled,\n",
              "  .colab-df-quickchart-complete:disabled:hover {\n",
              "    background-color: var(--disabled-bg-color);\n",
              "    fill: var(--disabled-fill-color);\n",
              "    box-shadow: none;\n",
              "  }\n",
              "\n",
              "  .colab-df-spinner {\n",
              "    border: 2px solid var(--fill-color);\n",
              "    border-color: transparent;\n",
              "    border-bottom-color: var(--fill-color);\n",
              "    animation:\n",
              "      spin 1s steps(1) infinite;\n",
              "  }\n",
              "\n",
              "  @keyframes spin {\n",
              "    0% {\n",
              "      border-color: transparent;\n",
              "      border-bottom-color: var(--fill-color);\n",
              "      border-left-color: var(--fill-color);\n",
              "    }\n",
              "    20% {\n",
              "      border-color: transparent;\n",
              "      border-left-color: var(--fill-color);\n",
              "      border-top-color: var(--fill-color);\n",
              "    }\n",
              "    30% {\n",
              "      border-color: transparent;\n",
              "      border-left-color: var(--fill-color);\n",
              "      border-top-color: var(--fill-color);\n",
              "      border-right-color: var(--fill-color);\n",
              "    }\n",
              "    40% {\n",
              "      border-color: transparent;\n",
              "      border-right-color: var(--fill-color);\n",
              "      border-top-color: var(--fill-color);\n",
              "    }\n",
              "    60% {\n",
              "      border-color: transparent;\n",
              "      border-right-color: var(--fill-color);\n",
              "    }\n",
              "    80% {\n",
              "      border-color: transparent;\n",
              "      border-right-color: var(--fill-color);\n",
              "      border-bottom-color: var(--fill-color);\n",
              "    }\n",
              "    90% {\n",
              "      border-color: transparent;\n",
              "      border-bottom-color: var(--fill-color);\n",
              "    }\n",
              "  }\n",
              "</style>\n",
              "\n",
              "  <script>\n",
              "    async function quickchart(key) {\n",
              "      const quickchartButtonEl =\n",
              "        document.querySelector('#' + key + ' button');\n",
              "      quickchartButtonEl.disabled = true;  // To prevent multiple clicks.\n",
              "      quickchartButtonEl.classList.add('colab-df-spinner');\n",
              "      try {\n",
              "        const charts = await google.colab.kernel.invokeFunction(\n",
              "            'suggestCharts', [key], {});\n",
              "      } catch (error) {\n",
              "        console.error('Error during call to suggestCharts:', error);\n",
              "      }\n",
              "      quickchartButtonEl.classList.remove('colab-df-spinner');\n",
              "      quickchartButtonEl.classList.add('colab-df-quickchart-complete');\n",
              "    }\n",
              "    (() => {\n",
              "      let quickchartButtonEl =\n",
              "        document.querySelector('#df-38e46b12-3fe6-4c23-bac5-4c472c51f423 button');\n",
              "      quickchartButtonEl.style.display =\n",
              "        google.colab.kernel.accessAllowed ? 'block' : 'none';\n",
              "    })();\n",
              "  </script>\n",
              "</div>\n",
              "    </div>\n",
              "  </div>\n"
            ]
          },
          "metadata": {},
          "execution_count": 19
        }
      ]
    },
    {
      "cell_type": "code",
      "source": [
        "df.dtypes"
      ],
      "metadata": {
        "colab": {
          "base_uri": "https://localhost:8080/"
        },
        "id": "Nr6eSmXZRnib",
        "outputId": "7d3498f0-eac1-46e7-8b97-5683a4b2e9b8"
      },
      "execution_count": null,
      "outputs": [
        {
          "output_type": "execute_result",
          "data": {
            "text/plain": [
              "Date          object\n",
              "Open         float64\n",
              "High         float64\n",
              "Low          float64\n",
              "Close        float64\n",
              "Adj Close    float64\n",
              "Volume       float64\n",
              "dtype: object"
            ]
          },
          "metadata": {},
          "execution_count": 20
        }
      ]
    },
    {
      "cell_type": "markdown",
      "source": [
        "\n",
        "Otra forma de descubrir el tipo de variables y ver los valores ausentes en las celdas es a través del método `df.info()`.\n",
        "\n",
        "Observa cómo es capaz de proporcionar esta información de manera tabular."
      ],
      "metadata": {
        "id": "fhOyYMIJTPOB"
      }
    },
    {
      "cell_type": "code",
      "source": [
        "df.info()"
      ],
      "metadata": {
        "colab": {
          "base_uri": "https://localhost:8080/"
        },
        "id": "B7805cpGTWYh",
        "outputId": "d7e0b4f4-47a1-4adf-f1e7-ea280739248f"
      },
      "execution_count": null,
      "outputs": [
        {
          "output_type": "stream",
          "name": "stdout",
          "text": [
            "<class 'pandas.core.frame.DataFrame'>\n",
            "RangeIndex: 248 entries, 0 to 247\n",
            "Data columns (total 7 columns):\n",
            " #   Column     Non-Null Count  Dtype  \n",
            "---  ------     --------------  -----  \n",
            " 0   Date       248 non-null    object \n",
            " 1   Open       247 non-null    float64\n",
            " 2   High       247 non-null    float64\n",
            " 3   Low        247 non-null    float64\n",
            " 4   Close      247 non-null    float64\n",
            " 5   Adj Close  247 non-null    float64\n",
            " 6   Volume     247 non-null    float64\n",
            "dtypes: float64(6), object(1)\n",
            "memory usage: 13.7+ KB\n"
          ]
        }
      ]
    },
    {
      "cell_type": "markdown",
      "source": [
        "# Seleccionando columnas\n",
        "Existen varias formas de seleccionar un subconjunto de datos en un *DataFrame*.\n",
        "\n",
        "En la mayoría de los casos, lo que queremos hacer es seleccionar solo una columna de todo el *DataFrame*.\n",
        "\n",
        "Para seleccionar una variable, debes poner el nombre de la columna entre corchetes, haciendo referencia a la variable donde se importaron tus datos.\n",
        "\n",
        "\n",
        "\n",
        "\n"
      ],
      "metadata": {
        "id": "I4EjCJ8sToa3"
      }
    },
    {
      "cell_type": "code",
      "source": [
        "# seleccionar la variable (columna) \"High\" de nuestra variable df\n",
        "df[\"High\"]"
      ],
      "metadata": {
        "colab": {
          "base_uri": "https://localhost:8080/"
        },
        "id": "fPSWMGNqTntI",
        "outputId": "e9ff9119-6065-460b-8e7e-aa1d4a7fa704"
      },
      "execution_count": null,
      "outputs": [
        {
          "output_type": "execute_result",
          "data": {
            "text/plain": [
              "0      49.669998\n",
              "1      49.680000\n",
              "2      50.840000\n",
              "3      51.259998\n",
              "4      51.189999\n",
              "         ...    \n",
              "243    26.200001\n",
              "244    29.250000\n",
              "245    30.209999\n",
              "246    28.780001\n",
              "247    27.760000\n",
              "Name: High, Length: 248, dtype: float64"
            ]
          },
          "metadata": {},
          "execution_count": 27
        }
      ]
    },
    {
      "cell_type": "markdown",
      "source": [
        "Si el nombre de las columnas no contiene espacios en blanco ni caracteres especiales, puedes seleccionarlas de una manera más conveniente en mi opinión.\n",
        "\n",
        "En lugar de `df[\"High\"]`, puedes usar `df.High`, lo que tendrá el mismo efecto."
      ],
      "metadata": {
        "id": "_YDVaNQ-Uvof"
      }
    },
    {
      "cell_type": "code",
      "source": [
        "#seleccionar la variable (columna) \"High\" de nuestra variable df\n",
        "df.High"
      ],
      "metadata": {
        "colab": {
          "base_uri": "https://localhost:8080/"
        },
        "id": "G2DAwlcGVST2",
        "outputId": "33804ccd-79ac-46db-ac2d-041de07bc5a4"
      },
      "execution_count": null,
      "outputs": [
        {
          "output_type": "execute_result",
          "data": {
            "text/plain": [
              "0      49.669998\n",
              "1      49.680000\n",
              "2      50.840000\n",
              "3      51.259998\n",
              "4      51.189999\n",
              "         ...    \n",
              "243    26.200001\n",
              "244    29.250000\n",
              "245    30.209999\n",
              "246    28.780001\n",
              "247    27.760000\n",
              "Name: High, Length: 248, dtype: float64"
            ]
          },
          "metadata": {},
          "execution_count": 28
        }
      ]
    },
    {
      "cell_type": "markdown",
      "source": [
        "## Calculando la media de una columna\n",
        "\n",
        "Cuando ejecutamos el código `df.High`, como viste anteriormente, se imprime solo la columna de valores `High`. Para encontrar el promedio de estos valores, simplemente utiliza `df.High.mean()`."
      ],
      "metadata": {
        "id": "HHdCjT0BVdQn"
      }
    },
    {
      "cell_type": "code",
      "source": [
        "# calcular la media de la columna \"High\"\n",
        "df.High.mean()"
      ],
      "metadata": {
        "colab": {
          "base_uri": "https://localhost:8080/"
        },
        "id": "-AaWoum3WzbM",
        "outputId": "7d7bf8e9-a762-411e-c4fa-25fdea531e06"
      },
      "execution_count": null,
      "outputs": [
        {
          "output_type": "execute_result",
          "data": {
            "text/plain": [
              "46.57639677327935"
            ]
          },
          "metadata": {},
          "execution_count": 16
        }
      ]
    },
    {
      "cell_type": "markdown",
      "source": [
        "\n",
        "Esto significa que el promedio de los valores de la columna `High` es `46.57639677327938`. Como veremos a lo largo del curso, existen muchas otras medidas importantes."
      ],
      "metadata": {
        "id": "Z5h7AGGhXGl5"
      }
    },
    {
      "cell_type": "markdown",
      "source": [
        "## Trabajando con datos (`datatime`)\n",
        "\n",
        "Cuando importas un archivo que contiene fechas, es probable que Pandas no las reconozca automáticamente.\n",
        "\n",
        "Cuando revisaste `df.info()`, viste que la columna `Date` estaba etiquetada como tipo `object`. En este caso, se trata de texto (`string`) y no permite la extracción de mucha información útil.\n",
        "\n",
        "Vamos a convertir la columna utilizando `pd.to_datetime` e indicando el formato de nuestra fecha."
      ],
      "metadata": {
        "id": "IGqex5KkXrLD"
      }
    },
    {
      "cell_type": "code",
      "source": [
        "# antes\n",
        "df.Date"
      ],
      "metadata": {
        "colab": {
          "base_uri": "https://localhost:8080/"
        },
        "id": "ZF2ugrrzXF7Q",
        "outputId": "05ca306a-e912-45bd-d6a4-529b9ff89aa6"
      },
      "execution_count": null,
      "outputs": [
        {
          "output_type": "execute_result",
          "data": {
            "text/plain": [
              "0      2019-05-06\n",
              "1      2019-05-07\n",
              "2      2019-05-08\n",
              "3      2019-05-09\n",
              "4      2019-05-10\n",
              "          ...    \n",
              "243    2020-04-27\n",
              "244    2020-04-28\n",
              "245    2020-04-29\n",
              "246    2020-04-30\n",
              "247    2020-05-04\n",
              "Name: Date, Length: 248, dtype: object"
            ]
          },
          "metadata": {},
          "execution_count": 29
        }
      ]
    },
    {
      "cell_type": "code",
      "source": [
        "pd.to_datetime(df.Date, format=\"%Y-%m-%d\")"
      ],
      "metadata": {
        "colab": {
          "base_uri": "https://localhost:8080/"
        },
        "id": "UhwSUa-WYLoz",
        "outputId": "d5cffafc-b2d2-479a-ee29-8a1992fbf6f5"
      },
      "execution_count": null,
      "outputs": [
        {
          "output_type": "execute_result",
          "data": {
            "text/plain": [
              "0     2019-05-06\n",
              "1     2019-05-07\n",
              "2     2019-05-08\n",
              "3     2019-05-09\n",
              "4     2019-05-10\n",
              "         ...    \n",
              "243   2020-04-27\n",
              "244   2020-04-28\n",
              "245   2020-04-29\n",
              "246   2020-04-30\n",
              "247   2020-05-04\n",
              "Name: Date, Length: 248, dtype: datetime64[ns]"
            ]
          },
          "metadata": {},
          "execution_count": 30
        }
      ]
    },
    {
      "cell_type": "code",
      "source": [
        "#convertir columna Date en datetime\n",
        "df.Date = pd.to_datetime(df.Date, format=\"%Y-%m-%d\")"
      ],
      "metadata": {
        "id": "byOrZEoZYXuz"
      },
      "execution_count": null,
      "outputs": []
    },
    {
      "cell_type": "code",
      "source": [
        "#despues\n",
        "df.Date"
      ],
      "metadata": {
        "colab": {
          "base_uri": "https://localhost:8080/"
        },
        "id": "d8Hq0shVYt9r",
        "outputId": "b1062c38-3373-49db-c526-5e5891a4513d"
      },
      "execution_count": null,
      "outputs": [
        {
          "output_type": "execute_result",
          "data": {
            "text/plain": [
              "0     2019-05-06\n",
              "1     2019-05-07\n",
              "2     2019-05-08\n",
              "3     2019-05-09\n",
              "4     2019-05-10\n",
              "         ...    \n",
              "243   2020-04-27\n",
              "244   2020-04-28\n",
              "245   2020-04-29\n",
              "246   2020-04-30\n",
              "247   2020-05-04\n",
              "Name: Date, Length: 248, dtype: datetime64[ns]"
            ]
          },
          "metadata": {},
          "execution_count": 32
        }
      ]
    },
    {
      "cell_type": "markdown",
      "source": [
        "Mira cómo ahora puedo acceder a los componentes de una fecha de forma individual utilizando `df.Date.dt`."
      ],
      "metadata": {
        "id": "WQZEZZAHZfLp"
      }
    },
    {
      "cell_type": "code",
      "source": [
        "df[\"Year\"] = df.Date.dt.year"
      ],
      "metadata": {
        "id": "45pwg_7JZmFR"
      },
      "execution_count": null,
      "outputs": []
    },
    {
      "cell_type": "code",
      "source": [
        "df.Date.dt.month"
      ],
      "metadata": {
        "colab": {
          "base_uri": "https://localhost:8080/"
        },
        "id": "7EJ_iWnjZ_4r",
        "outputId": "8b57ece0-dbb5-422b-efb3-a2ca7fedb5ee"
      },
      "execution_count": null,
      "outputs": [
        {
          "output_type": "execute_result",
          "data": {
            "text/plain": [
              "0      5\n",
              "1      5\n",
              "2      5\n",
              "3      5\n",
              "4      5\n",
              "      ..\n",
              "243    4\n",
              "244    4\n",
              "245    4\n",
              "246    4\n",
              "247    5\n",
              "Name: Date, Length: 248, dtype: int64"
            ]
          },
          "metadata": {},
          "execution_count": 28
        }
      ]
    },
    {
      "cell_type": "code",
      "source": [
        "df.Date.dt.day"
      ],
      "metadata": {
        "colab": {
          "base_uri": "https://localhost:8080/"
        },
        "id": "75-peCD4aGDJ",
        "outputId": "8979b23c-e291-4da0-81af-676cc2609b91"
      },
      "execution_count": null,
      "outputs": [
        {
          "output_type": "execute_result",
          "data": {
            "text/plain": [
              "0       6\n",
              "1       7\n",
              "2       8\n",
              "3       9\n",
              "4      10\n",
              "       ..\n",
              "243    27\n",
              "244    28\n",
              "245    29\n",
              "246    30\n",
              "247     4\n",
              "Name: Date, Length: 248, dtype: int64"
            ]
          },
          "metadata": {},
          "execution_count": 30
        }
      ]
    },
    {
      "cell_type": "markdown",
      "source": [
        "Sin embargo, hay varios formatos que un usuario puede utilizar para ingresar fechas. Puedes encontrar ejemplos como:\n",
        "\n",
        "*  31/06/15\n",
        "*  31/06/2015\n",
        "*  31-6-15\n",
        "*  2015-6-31\n",
        "*  31 de junio de 2015\n",
        "\n",
        "\n",
        "Para lidiar con todas estas variaciones, tendrás que consultar la documentación. Aquí tienes dos enlaces que te serán útiles para ello:\n",
        "\n",
        "\n",
        "\n",
        "*  https://pandas.pydata.org/docs/reference/api/pandas.to_datetime.html?highlight=to_datetime#pandas.to_datetime\n",
        "*   https://docs.python.org/3/library/datetime.html#strftime-and-strptime-behavior"
      ],
      "metadata": {
        "id": "vOGE6kQLaiyy"
      }
    }
  ]
}